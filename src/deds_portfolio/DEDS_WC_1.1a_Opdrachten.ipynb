{
 "cells": [
  {
   "cell_type": "markdown",
   "metadata": {},
   "source": [
    "# Werkcollege-opdrachten Week 1.1"
   ]
  },
  {
   "cell_type": "markdown",
   "metadata": {},
   "source": [
    "## Maak een virtual environment"
   ]
  },
  {
   "cell_type": "markdown",
   "metadata": {},
   "source": [
    "Zorg dat je met behulp van de handleiding *Bouw en gebruik van virtual environments - Handleiding* een virtual environment hebt gemaakt, dat jou en je duopartner garandeert altijd dezelfde versie van geïmporteerde dependencies te gebruiken.<br>\n",
    "Voeg hier vervolgens met *poetry add pandas* de pandas-dependency aan toe.<br>\n",
    "Als je dit allemaal goed hebt gedaan moet de onderstaande code bij jullie allebei succesvol runnen:"
   ]
  },
  {
   "cell_type": "code",
   "execution_count": 1,
   "metadata": {},
   "outputs": [],
   "source": [
    "import pandas as pd"
   ]
  },
  {
   "cell_type": "markdown",
   "metadata": {},
   "source": [
    "Zorg er daarnaast voor dat je...\n",
    "- Het bestand Waarheidstabel.png in dezelfde map als dit notebook hebt staan.\n",
    "- Het bestand Prinstabel.png in dezelfde map als dit notebook hebt staan.\n",
    "- Alle informatie onder het kopje *Basisoperaties* van de cheatsheet *Van Java naar Python - Cheatsheet* (zie Brightspace) bij de hand hebt."
   ]
  },
  {
   "cell_type": "markdown",
   "metadata": {},
   "source": [
    "## 1.1: Output, variabelen en input"
   ]
  },
  {
   "cell_type": "markdown",
   "metadata": {},
   "source": [
    "Geef code waarmee het volgende op het scherm komt te staan:<br>\n",
    "geef me je geld <br>\n",
    "of ik gebruik geweld, <br>\n",
    "toen kwam de controle aangesneld"
   ]
  },
  {
   "cell_type": "code",
   "execution_count": null,
   "metadata": {},
   "outputs": [],
   "source": [
    "print(\"geef me je geld\\nof ik gebruik geweld\\ntoen kwam de controle aangesneld\")"
   ]
  },
  {
   "cell_type": "markdown",
   "metadata": {},
   "source": [
    "Declareer 2 variabelen zodat de volgende tekst geprint wordt:<br>\n",
    "Apenhoofd<br>\n",
    "Paardenstaart"
   ]
  },
  {
   "cell_type": "code",
   "execution_count": null,
   "metadata": {},
   "outputs": [],
   "source": [
    "aap : str = \"Apenhoofd\"\n",
    "paard : str = \"Paardenstaart\"\n",
    "\n",
    "print(f\"{aap}\\n{paard}\")"
   ]
  },
  {
   "cell_type": "markdown",
   "metadata": {},
   "source": [
    "Voeg code toe zodat het programma het volgende doet:<br>\n",
    "1): Op het scherm komt A, B, C, D, ..., F, G te staan<br>\n",
    "2): De gebruiker voert een letter in<br>\n",
    "3): Op het scherm komt te staan:<br>\n",
    "Het is inderdaad:<br>\n",
    "*ingevoerde letter*"
   ]
  },
  {
   "cell_type": "code",
   "execution_count": null,
   "metadata": {},
   "outputs": [
    {
     "name": "stdout",
     "output_type": "stream",
     "text": [
      "Het is inderdaad\n",
      "E\n"
     ]
    }
   ],
   "source": [
    "letter : str = input(\"A, B, C, ..., D, F, G\")\n",
    "\n",
    "if (letter.capitalize() == \"E\"):\n",
    "    print(f\"Het is inderdaad\\n{letter}\")\n",
    "else:\n",
    "    print(f\"Het is niet letter\\n{letter}\")\n"
   ]
  },
  {
   "cell_type": "markdown",
   "metadata": {},
   "source": [
    "## 1.2: Stringconcatenatie en Rekenen"
   ]
  },
  {
   "cell_type": "markdown",
   "metadata": {},
   "source": [
    "Schrijf code dat een inkomen inleest en het volgende uitprint:<br>\n",
    "Uw inkomen (*ingelezen inkomen*) is zeer acceptabel."
   ]
  },
  {
   "cell_type": "code",
   "execution_count": null,
   "metadata": {},
   "outputs": [
    {
     "name": "stdout",
     "output_type": "stream",
     "text": [
      "Uw inkomen a is zeer acceptabel.\n"
     ]
    }
   ],
   "source": [
    "inkomen : int = int(input())\n",
    "print(f\"Uw inkomen {inkomen} is zeer acceptabel.\")"
   ]
  },
  {
   "cell_type": "markdown",
   "metadata": {},
   "source": [
    "De oppervlakte van een driehoek is 1/2 * hoogte * basis<br>\n",
    "Schrijf code zodat het programma het volgende doet:<br>\n",
    "1): Op het scherm komt Wat is de basis? te staan<br>\n",
    "2): De gebruiker voert een basis in<br>\n",
    "3): Op het scherm komt Wat is de hoogte? te staan<br>\n",
    "4): De gebruiker voert een hoogte in<br>\n",
    "5): Op het scherm komt: De oppervlakte van de driehoek is *berekende oppervlakte* te staan"
   ]
  },
  {
   "cell_type": "code",
   "execution_count": 9,
   "metadata": {},
   "outputs": [
    {
     "name": "stdout",
     "output_type": "stream",
     "text": [
      "De oppervlakte van de driehoek is 3.700377205164416e+22\n"
     ]
    }
   ],
   "source": [
    "basis : int = int(input(\"Wat is de basis?: \"))\n",
    "hoogte : int = int(input(\"Wat is de hoogte? \"))\n",
    "oppervlakte : int = basis * hoogte * 0.5\n",
    "\n",
    "print(f\"De oppervlakte van de driehoek is {oppervlakte}\")"
   ]
  },
  {
   "cell_type": "markdown",
   "metadata": {},
   "source": [
    "## 1.3: if() en booleans"
   ]
  },
  {
   "cell_type": "markdown",
   "metadata": {},
   "source": [
    "Schrijf code dat het volgende doet:<br>\n",
    "1): De gebruiker voert in hoe oud iemand is<br>\n",
    "2): De gebruiker voert in of de ouders meegekomen zijn (input is J of N)<br><br>\n",
    "\n",
    "Als...\n",
    "- Jonger dan 6, wel ouders: op het scherm staat Je mag het zwembad in\n",
    "- Jonger dan 6, geen ouders: op het scherm staat Je mag het niet zwembad in\n",
    "- Leeftijd vanaf 6, geen ouders: op het scherm staat Je mag het zwembad in als je een diploma hebt\n",
    "- Leeftijd vanaf 6, wel ouders: op het scherm staat Waarom neem je nog je ouders mee?"
   ]
  },
  {
   "cell_type": "code",
   "execution_count": 10,
   "metadata": {},
   "outputs": [
    {
     "name": "stdout",
     "output_type": "stream",
     "text": [
      "Je mag niet het zwembad in\n"
     ]
    }
   ],
   "source": [
    "leeftijd : int = int(input(\"Wat is je leeftijd?: \"))\n",
    "aanwezigheidOuders : str = input(\"Ouders aanwezig?: \")\n",
    "\n",
    "if (leeftijd < 6 and aanwezigheidOuders == \"J\"):\n",
    "    print(\"Je mag het zwembad in\")\n",
    "elif (leeftijd < 6 and aanwezigheidOuders != \"J\"):\n",
    "    print(\"Je mag niet het zwembad in\")\n",
    "elif (leeftijd >= 6 and aanwezigheidOuders != \"J\"):\n",
    "    print(\"Je mag alleen het zwembad in als je een diploma hebt\")\n",
    "else:\n",
    "    print(\"Waarom neem je nog je ouders mee?\")"
   ]
  },
  {
   "cell_type": "markdown",
   "metadata": {},
   "source": [
    "Schrijf code zodat de boolean-variabelen een en twee aangemaakt worden en waarmee de juiste waarde in de boolean-variabele uitkomst komt te staan. In de waarheidstabel hieronder staat wat de waarde van uitkomst is bij de verschillende mogelijke combinaties van een en twee.<br><br>\n",
    "<img src=\"images\\Waarheidstabel.png\">"
   ]
  },
  {
   "cell_type": "code",
   "execution_count": null,
   "metadata": {},
   "outputs": [],
   "source": []
  },
  {
   "cell_type": "markdown",
   "metadata": {},
   "source": [
    "## 1.4: Methoden"
   ]
  },
  {
   "cell_type": "markdown",
   "metadata": {},
   "source": [
    "Schrijf een methode wachtwoord die als parameters twee woorden meekrijgt en het volgende controleert:\n",
    "- Als de woorden gelijk zijn, print het programma gelijk.\n",
    "- Als de woorden ongelijk zijn print het programma ongelijk.\n",
    "\n",
    "Vergeet niet dat je de methode niet alleen aan moet maken, maar ook aan moet roepen om output te krijgen."
   ]
  },
  {
   "cell_type": "code",
   "execution_count": null,
   "metadata": {},
   "outputs": [],
   "source": []
  },
  {
   "cell_type": "markdown",
   "metadata": {},
   "source": [
    "Schrijf de methode zoekPrins die als parameter een prinses meekrijgt en vervolgens de bijbehorende prins teruggeeft, volgens de volgende tabel:<br><br>\n",
    "<img src=\"Prinstabel.png\"><br>\n",
    "Als de naam van de prinses niet in de tabel staat wordt het volgende door de methode teruggegeven: naamloos.<br>\n",
    "Roep ten slotte de gemaakte methode ook daadwerkelijk aan met een zelfgekozen prinsessennaam."
   ]
  },
  {
   "cell_type": "code",
   "execution_count": null,
   "metadata": {},
   "outputs": [],
   "source": []
  },
  {
   "cell_type": "markdown",
   "metadata": {},
   "source": [
    "## 1.5: While"
   ]
  },
  {
   "cell_type": "markdown",
   "metadata": {},
   "source": [
    "Schrijf de inhoud van de methode wachtwoord. Deze heeft geen parameters en laat de gebruiker twee wachtwoorden invoeren, waarna hij bekijkt of deze gelijk zijn. Zolang dat niet het geval is wordt er eerst Fout, probeer het opnieuw! uitgeprint en moet de gebruiker het opnieuw proberen.<br>Als de gebruiker het goed doet, komt er Succes! op het scherm te staan."
   ]
  },
  {
   "cell_type": "code",
   "execution_count": null,
   "metadata": {},
   "outputs": [],
   "source": []
  },
  {
   "cell_type": "markdown",
   "metadata": {},
   "source": [
    "Schrijf de inhoud van de methode tafels. De methode print alle tafels vanaf 1 (dus inclusief de tafel van 1) tot en met de tafel van het meegekregen getal (dus inclusief de tafel van getal).  Zet een witregel tussen alle tafels in. <br>\n",
    "Let op:\n",
    "- Gebruik een while-loop\n",
    "- Gebruik de reeds geschreven methode tafel om een tafel uit te printen"
   ]
  },
  {
   "cell_type": "code",
   "execution_count": null,
   "metadata": {},
   "outputs": [],
   "source": [
    "def tafel(getal: int):\n",
    "    teller: int = 1\n",
    "\n",
    "    while(teller <= 10):\n",
    "        print(f'{teller} x {getal} = {teller * getal}')\n",
    "        teller += 1\n",
    "\n",
    "def tafels(getal: int):\n",
    "    ...\n",
    "\n",
    "x: int = int(input())\n",
    "tafels(x)"
   ]
  },
  {
   "cell_type": "markdown",
   "metadata": {},
   "source": [
    "## For-loop"
   ]
  },
  {
   "cell_type": "markdown",
   "metadata": {},
   "source": [
    "Vervang de while-loop door een werkende for-loop. De uitkomst van het programma mag daarbij niet veranderen."
   ]
  },
  {
   "cell_type": "code",
   "execution_count": null,
   "metadata": {},
   "outputs": [],
   "source": [
    "def loopje():\n",
    "    aantal = 0\n",
    "\n",
    "    while(aantal <= 10):\n",
    "        print(f\"huidige getal: {aantal}\")\n",
    "        aantal += 1\n",
    "\n",
    "loopje()"
   ]
  },
  {
   "cell_type": "markdown",
   "metadata": {},
   "source": [
    "Schrijf de methode checkEven die achtereenvolgens 12 getallen inleest en afdrukt hoe vaak het ingevoerde getal even was."
   ]
  },
  {
   "cell_type": "code",
   "execution_count": null,
   "metadata": {},
   "outputs": [],
   "source": [
    "\n",
    "\n",
    "checkEven()"
   ]
  },
  {
   "cell_type": "markdown",
   "metadata": {},
   "source": [
    "## Objectoriëntatie"
   ]
  },
  {
   "cell_type": "markdown",
   "metadata": {},
   "source": [
    "Maak een minisysteem voor een kledingwinkel. Maak verschillende klassen voor verschillende soorten kledingstukken, waarbij sommige klassen geërfd worden van andere klassen.\n",
    "- Maak een klasse Kledingstuk aan, waarin door de constructor een merk, een maat en een prijs geïnitialiseerd worden.\n",
    "- Maak een klasse Broek en een klasse Shirt, beide erven van de klasse Kledingstuk. Voeg aan Broek een broek_type, en aan Shirt een shirt_type toe (d.m.v. constructorgebruik).\n",
    "- Maak een klasse Spijkerbroek die erft van broek en een klasse Poloshirt die erft van shirt. Voeg aan Spijkerbroek een blauwtint toe, en aan Poloshirt een kraagsoort (d.m.v. constructorgebruik).\n",
    "- Implementeer in elke klasse een beschrijf-methode, waarmee alle informatie over het betreffende kledingstuk wordt afgedrukt.\n",
    "- Maak van elke klasse een object aan en roep de beschrijfmethode aan. Controleer nauwkeurig of alles naar behoren werkt."
   ]
  },
  {
   "cell_type": "code",
   "execution_count": null,
   "metadata": {},
   "outputs": [],
   "source": []
  },
  {
   "cell_type": "markdown",
   "metadata": {},
   "source": [
    "Opmerking: in themaweken 2 t/m 8 ga je objectoriëntatie waarschijnlijk veel minder vaak gebruiken dan de andere boven- en ondergenoemde programmeertechnieken.<br>\n",
    "Maar let op: in themaweken 9 en 10 komt objectoriëntatie <b><u>uitvoerig</u></b> aan de orde. Zorg dus dat je deze kennis niet vergeet!"
   ]
  },
  {
   "cell_type": "markdown",
   "metadata": {},
   "source": [
    "## Verzamelingen"
   ]
  },
  {
   "cell_type": "markdown",
   "metadata": {},
   "source": [
    "Kijk nu naar alle info onder het kopje *Verzamelingen* van de cheatsheet *Van Java naar Python - Cheatsheet*."
   ]
  },
  {
   "cell_type": "markdown",
   "metadata": {},
   "source": [
    "Initialiseer een lijst met de naam mijn_lijst met de volgende waarden:<br>\n",
    "Jelle, Marleen, Henk, Fatima, Jelle, Henk"
   ]
  },
  {
   "cell_type": "code",
   "execution_count": null,
   "metadata": {},
   "outputs": [],
   "source": []
  },
  {
   "cell_type": "markdown",
   "metadata": {},
   "source": [
    "Probeer nu de eerste waarde uit te lijst te veranderen in een naam naar keuze. Lukt dat?"
   ]
  },
  {
   "cell_type": "code",
   "execution_count": null,
   "metadata": {},
   "outputs": [],
   "source": []
  },
  {
   "cell_type": "markdown",
   "metadata": {},
   "source": [
    "Maak van bovengenoemde lijst nu een tupel, genaamd: mijn_tupel."
   ]
  },
  {
   "cell_type": "code",
   "execution_count": null,
   "metadata": {},
   "outputs": [],
   "source": []
  },
  {
   "cell_type": "markdown",
   "metadata": {},
   "source": [
    "Probeer nu de eerste waarde uit te tupel te veranderen in een naam naar keuze. Lukt dat?"
   ]
  },
  {
   "cell_type": "code",
   "execution_count": null,
   "metadata": {},
   "outputs": [],
   "source": []
  },
  {
   "cell_type": "markdown",
   "metadata": {},
   "source": [
    "Initialiseer een dictionary met de volgende key-value-combinaties:\n",
    "- naam: \"Jelle\"\n",
    "- leeftijd: 28\n",
    "- beroep: \"Docent\"\n",
    "- hobby: \"Volleybal\""
   ]
  },
  {
   "cell_type": "code",
   "execution_count": null,
   "metadata": {},
   "outputs": [],
   "source": []
  },
  {
   "cell_type": "markdown",
   "metadata": {},
   "source": [
    "Probeer nu de naam te veranderen naar een naam naar keuze. Lukt dat?"
   ]
  },
  {
   "cell_type": "code",
   "execution_count": null,
   "metadata": {},
   "outputs": [],
   "source": []
  }
 ],
 "metadata": {
  "kernelspec": {
   "display_name": ".venv",
   "language": "python",
   "name": "python3"
  },
  "language_info": {
   "codemirror_mode": {
    "name": "ipython",
    "version": 3
   },
   "file_extension": ".py",
   "mimetype": "text/x-python",
   "name": "python",
   "nbconvert_exporter": "python",
   "pygments_lexer": "ipython3",
   "version": "3.12.5"
  }
 },
 "nbformat": 4,
 "nbformat_minor": 2
}
