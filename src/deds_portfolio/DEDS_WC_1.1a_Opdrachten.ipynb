{
 "cells": [
  {
   "cell_type": "markdown",
   "metadata": {},
   "source": [
    "# Werkcollege-opdrachten Week 1.1"
   ]
  },
  {
   "cell_type": "markdown",
   "metadata": {},
   "source": [
    "## Maak een virtual environment"
   ]
  },
  {
   "cell_type": "markdown",
   "metadata": {},
   "source": [
    "Zorg dat je met behulp van de handleiding *Bouw en gebruik van virtual environments - Handleiding* een virtual environment hebt gemaakt, dat jou en je duopartner garandeert altijd dezelfde versie van geïmporteerde dependencies te gebruiken.<br>\n",
    "Voeg hier vervolgens met *poetry add pandas* de pandas-dependency aan toe.<br>\n",
    "Als je dit allemaal goed hebt gedaan moet de onderstaande code bij jullie allebei succesvol runnen:"
   ]
  },
  {
   "cell_type": "code",
   "execution_count": 1,
   "metadata": {},
   "outputs": [],
   "source": [
    "import pandas as pd"
   ]
  },
  {
   "cell_type": "markdown",
   "metadata": {},
   "source": [
    "Zorg er daarnaast voor dat je...\n",
    "- Het bestand Waarheidstabel.png in dezelfde map als dit notebook hebt staan.\n",
    "- Het bestand Prinstabel.png in dezelfde map als dit notebook hebt staan.\n",
    "- Alle informatie onder het kopje *Basisoperaties* van de cheatsheet *Van Java naar Python - Cheatsheet* (zie Brightspace) bij de hand hebt."
   ]
  },
  {
   "cell_type": "markdown",
   "metadata": {},
   "source": [
    "## 1.1: Output, variabelen en input"
   ]
  },
  {
   "cell_type": "markdown",
   "metadata": {},
   "source": [
    "Geef code waarmee het volgende op het scherm komt te staan:<br>\n",
    "geef me je geld <br>\n",
    "of ik gebruik geweld, <br>\n",
    "toen kwam de controle aangesneld"
   ]
  },
  {
   "cell_type": "code",
   "execution_count": null,
   "metadata": {},
   "outputs": [],
   "source": [
    "print(\"geef me je geld\\nof ik gebruik geweld\\ntoen kwam de controle aangesneld\")"
   ]
  },
  {
   "cell_type": "markdown",
   "metadata": {},
   "source": [
    "Declareer 2 variabelen zodat de volgende tekst geprint wordt:<br>\n",
    "Apenhoofd<br>\n",
    "Paardenstaart"
   ]
  },
  {
   "cell_type": "code",
   "execution_count": null,
   "metadata": {},
   "outputs": [],
   "source": [
    "aap : str = \"Apenhoofd\"\n",
    "paard : str = \"Paardenstaart\"\n",
    "\n",
    "print(f\"{aap}\\n{paard}\")"
   ]
  },
  {
   "cell_type": "markdown",
   "metadata": {},
   "source": [
    "Voeg code toe zodat het programma het volgende doet:<br>\n",
    "1): Op het scherm komt A, B, C, D, ..., F, G te staan<br>\n",
    "2): De gebruiker voert een letter in<br>\n",
    "3): Op het scherm komt te staan:<br>\n",
    "Het is inderdaad:<br>\n",
    "*ingevoerde letter*"
   ]
  },
  {
   "cell_type": "code",
   "execution_count": null,
   "metadata": {},
   "outputs": [],
   "source": [
    "letter : str = input(\"A, B, C, ..., D, F, G\")\n",
    "\n",
    "if (letter.capitalize() == \"E\"):\n",
    "    print(f\"Het is inderdaad\\n{letter}\")\n",
    "else:\n",
    "    print(f\"Het is niet letter\\n{letter}\")\n"
   ]
  },
  {
   "cell_type": "markdown",
   "metadata": {},
   "source": [
    "## 1.2: Stringconcatenatie en Rekenen"
   ]
  },
  {
   "cell_type": "markdown",
   "metadata": {},
   "source": [
    "Schrijf code dat een inkomen inleest en het volgende uitprint:<br>\n",
    "Uw inkomen (*ingelezen inkomen*) is zeer acceptabel."
   ]
  },
  {
   "cell_type": "code",
   "execution_count": null,
   "metadata": {},
   "outputs": [],
   "source": [
    "inkomen : int = int(input())\n",
    "print(f\"Uw inkomen {inkomen} is zeer acceptabel.\")"
   ]
  },
  {
   "cell_type": "markdown",
   "metadata": {},
   "source": [
    "De oppervlakte van een driehoek is 1/2 * hoogte * basis<br>\n",
    "Schrijf code zodat het programma het volgende doet:<br>\n",
    "1): Op het scherm komt Wat is de basis? te staan<br>\n",
    "2): De gebruiker voert een basis in<br>\n",
    "3): Op het scherm komt Wat is de hoogte? te staan<br>\n",
    "4): De gebruiker voert een hoogte in<br>\n",
    "5): Op het scherm komt: De oppervlakte van de driehoek is *berekende oppervlakte* te staan"
   ]
  },
  {
   "cell_type": "code",
   "execution_count": null,
   "metadata": {},
   "outputs": [],
   "source": [
    "basis : int = int(input(\"Wat is de basis?: \"))\n",
    "hoogte : int = int(input(\"Wat is de hoogte? \"))\n",
    "oppervlakte : int = basis * hoogte * 0.5\n",
    "\n",
    "print(f\"De oppervlakte van de driehoek is {oppervlakte}\")"
   ]
  },
  {
   "cell_type": "markdown",
   "metadata": {},
   "source": [
    "## 1.3: if() en booleans"
   ]
  },
  {
   "cell_type": "markdown",
   "metadata": {},
   "source": [
    "Schrijf code dat het volgende doet:<br>\n",
    "1): De gebruiker voert in hoe oud iemand is<br>\n",
    "2): De gebruiker voert in of de ouders meegekomen zijn (input is J of N)<br><br>\n",
    "\n",
    "Als...\n",
    "- Jonger dan 6, wel ouders: op het scherm staat Je mag het zwembad in\n",
    "- Jonger dan 6, geen ouders: op het scherm staat Je mag het niet zwembad in\n",
    "- Leeftijd vanaf 6, geen ouders: op het scherm staat Je mag het zwembad in als je een diploma hebt\n",
    "- Leeftijd vanaf 6, wel ouders: op het scherm staat Waarom neem je nog je ouders mee?"
   ]
  },
  {
   "cell_type": "code",
   "execution_count": null,
   "metadata": {},
   "outputs": [],
   "source": [
    "leeftijd : int = int(input(\"Wat is je leeftijd?: \"))\n",
    "aanwezigheidOuders : str = input(\"Ouders aanwezig?: \")\n",
    "\n",
    "if (leeftijd < 6 and aanwezigheidOuders == \"J\"):\n",
    "    print(\"Je mag het zwembad in\")\n",
    "elif (leeftijd < 6 and aanwezigheidOuders != \"J\"):\n",
    "    print(\"Je mag niet het zwembad in\")\n",
    "elif (leeftijd >= 6 and aanwezigheidOuders != \"J\"):\n",
    "    print(\"Je mag alleen het zwembad in als je een diploma hebt\")\n",
    "else:\n",
    "    print(\"Waarom neem je nog je ouders mee?\")"
   ]
  },
  {
   "cell_type": "markdown",
   "metadata": {},
   "source": [
    "Schrijf code zodat de boolean-variabelen een en twee aangemaakt worden en waarmee de juiste waarde in de boolean-variabele uitkomst komt te staan. In de waarheidstabel hieronder staat wat de waarde van uitkomst is bij de verschillende mogelijke combinaties van een en twee.<br><br>\n",
    "<img src=\"images\\Waarheidstabel.png\">"
   ]
  },
  {
   "cell_type": "code",
   "execution_count": null,
   "metadata": {},
   "outputs": [],
   "source": [
    "waarheidstabel = [\n",
    "    {\"een\": True, \"twee\": True, \"uitkomst\": None},\n",
    "    {\"een\": True, \"twee\": False, \"uitkomst\": None},\n",
    "    {\"een\": False, \"twee\": True, 'uitkomst': None},\n",
    "    {\"een\": False, \"twee\": False, \"uitkomst\": None}\n",
    "]\n",
    "\n",
    "for waarheid in waarheidstabel:\n",
    "    if (waarheid[\"een\"] and waarheid[\"twee\"]):\n",
    "        waarheid[\"uitkomst\"] = True\n",
    "    elif (waarheid[\"een\"] and not waarheid[\"twee\"]):\n",
    "        waarheid[\"uitkomst\"] = False\n",
    "    elif (not waarheid[\"een\"] and waarheid[\"twee\"]):\n",
    "        waarheid[\"uitkomst\"] = True\n",
    "    else:\n",
    "        waarheid[\"uitkomst\"] = True\n",
    "    \n",
    "    print(f\"een: {waarheid[\"een\"]}, twee: {waarheid[\"twee\"]}, uitkomst: {waarheid[\"uitkomst\"]}\")\n"
   ]
  },
  {
   "cell_type": "markdown",
   "metadata": {},
   "source": [
    "## 1.4: Methoden"
   ]
  },
  {
   "cell_type": "markdown",
   "metadata": {},
   "source": [
    "Schrijf een methode wachtwoord die als parameters twee woorden meekrijgt en het volgende controleert:\n",
    "- Als de woorden gelijk zijn, print het programma gelijk.\n",
    "- Als de woorden ongelijk zijn print het programma ongelijk.\n",
    "\n",
    "Vergeet niet dat je de methode niet alleen aan moet maken, maar ook aan moet roepen om output te krijgen."
   ]
  },
  {
   "cell_type": "code",
   "execution_count": null,
   "metadata": {},
   "outputs": [],
   "source": [
    "def passwordCheck(pws1 : str, pws2 : str):\n",
    "    if (pws1 == pws2):\n",
    "        return True\n",
    "    return False\n",
    "\n",
    "pws1 : str = input(\"Wachtwoord 1: \")\n",
    "pws2 : str = input(\"Wachtwoord 2: \")\n",
    "\n",
    "if (passwordCheck(pws1, pws2)):\n",
    "    print(\"Wachtwoorden komen overeen\")\n",
    "else:\n",
    "    print(\"Wachtwoorden komen niet overeen\")"
   ]
  },
  {
   "cell_type": "markdown",
   "metadata": {},
   "source": [
    "Schrijf de methode zoekPrins die als parameter een prinses meekrijgt en vervolgens de bijbehorende prins teruggeeft, volgens de volgende tabel:<br><br>\n",
    "<img src=\"images\\Prinstabel.png\"><br>\n",
    "Als de naam van de prinses niet in de tabel staat wordt het volgende door de methode teruggegeven: naamloos.<br>\n",
    "Roep ten slotte de gemaakte methode ook daadwerkelijk aan met een zelfgekozen prinsessennaam."
   ]
  },
  {
   "cell_type": "code",
   "execution_count": null,
   "metadata": {},
   "outputs": [],
   "source": [
    "def checkPrins(prinsses : str):\n",
    "    prinssessen = {\n",
    "        \"Aurora\" : \"Philip\",\n",
    "        \"Ariël\" : \"Eric\",\n",
    "        \"Jasmine\" : \"Alladin\",\n",
    "        \"Pocahontas\" : \"John\",\n",
    "        \"Belle\" : \"Beast\",\n",
    "        \"Tiana\" : \"Naveen\",\n",
    "        \"Mulan\" : \"Shang\"\n",
    "    }\n",
    "    \n",
    "    if (prinses in prinssessen):\n",
    "        return prinssessen[prinsses]\n",
    "    \n",
    "    return \"naamloos\"\n",
    "\n",
    "prinses : str = input(\"Geef een prinses op: \")\n",
    "\n",
    "print(checkPrins(prinses)) "
   ]
  },
  {
   "cell_type": "markdown",
   "metadata": {},
   "source": [
    "## 1.5: While"
   ]
  },
  {
   "cell_type": "markdown",
   "metadata": {},
   "source": [
    "Schrijf de inhoud van de methode wachtwoord. Deze heeft geen parameters en laat de gebruiker twee wachtwoorden invoeren, waarna hij bekijkt of deze gelijk zijn. Zolang dat niet het geval is wordt er eerst Fout, probeer het opnieuw! uitgeprint en moet de gebruiker het opnieuw proberen.<br>Als de gebruiker het goed doet, komt er Succes! op het scherm te staan."
   ]
  },
  {
   "cell_type": "code",
   "execution_count": null,
   "metadata": {},
   "outputs": [],
   "source": [
    "def password():\n",
    "    match : bool = False\n",
    "    \n",
    "    while (not match):\n",
    "        pws1 : str = input(\"Geef een wachtwoord op: \")\n",
    "        pws2 : str = input(\"Herhaal wachtwoord: \")\n",
    "        \n",
    "        if (pws1 == pws2):\n",
    "            print(\"Succes!\")\n",
    "            match = True\n",
    "        else:\n",
    "            print(\"Fout!\\nProbeer opnieuw\")\n",
    "password()\n",
    "    "
   ]
  },
  {
   "cell_type": "markdown",
   "metadata": {},
   "source": [
    "Schrijf de inhoud van de methode tafels. De methode print alle tafels vanaf 1 (dus inclusief de tafel van 1) tot en met de tafel van het meegekregen getal (dus inclusief de tafel van getal).  Zet een witregel tussen alle tafels in. <br>\n",
    "Let op:\n",
    "- Gebruik een while-loop\n",
    "- Gebruik de reeds geschreven methode tafel om een tafel uit te printen"
   ]
  },
  {
   "cell_type": "code",
   "execution_count": 4,
   "metadata": {},
   "outputs": [
    {
     "name": "stdout",
     "output_type": "stream",
     "text": [
      "1 x 1 = 1\n",
      "2 x 1 = 2\n",
      "3 x 1 = 3\n",
      "4 x 1 = 4\n",
      "5 x 1 = 5\n",
      "6 x 1 = 6\n",
      "7 x 1 = 7\n",
      "8 x 1 = 8\n",
      "9 x 1 = 9\n",
      "10 x 1 = 10\n",
      "1 x 2 = 2\n",
      "2 x 2 = 4\n",
      "3 x 2 = 6\n",
      "4 x 2 = 8\n",
      "5 x 2 = 10\n",
      "6 x 2 = 12\n",
      "7 x 2 = 14\n",
      "8 x 2 = 16\n",
      "9 x 2 = 18\n",
      "10 x 2 = 20\n",
      "1 x 3 = 3\n",
      "2 x 3 = 6\n",
      "3 x 3 = 9\n",
      "4 x 3 = 12\n",
      "5 x 3 = 15\n",
      "6 x 3 = 18\n",
      "7 x 3 = 21\n",
      "8 x 3 = 24\n",
      "9 x 3 = 27\n",
      "10 x 3 = 30\n"
     ]
    }
   ],
   "source": [
    "def tafel(getal: int):\n",
    "    teller: int = 1\n",
    "\n",
    "    while(teller <= 10):\n",
    "        print(f'{teller} x {getal} = {teller * getal}')\n",
    "        teller += 1\n",
    "\n",
    "def tafels(getal: int):\n",
    "    current : int = 1\n",
    "    \n",
    "    while (current <= getal):\n",
    "        tafel(current)\n",
    "        current += 1\n",
    "\n",
    "x: int = int(input())\n",
    "tafels(x)"
   ]
  },
  {
   "cell_type": "markdown",
   "metadata": {},
   "source": [
    "## For-loop"
   ]
  },
  {
   "cell_type": "markdown",
   "metadata": {},
   "source": [
    "Vervang de while-loop door een werkende for-loop. De uitkomst van het programma mag daarbij niet veranderen."
   ]
  },
  {
   "cell_type": "code",
   "execution_count": 7,
   "metadata": {},
   "outputs": [
    {
     "name": "stdout",
     "output_type": "stream",
     "text": [
      "huidige getal: 0\n",
      "huidige getal: 1\n",
      "huidige getal: 2\n",
      "huidige getal: 3\n",
      "huidige getal: 4\n",
      "huidige getal: 5\n",
      "huidige getal: 6\n",
      "huidige getal: 7\n",
      "huidige getal: 8\n",
      "huidige getal: 9\n",
      "huidige getal: 10\n"
     ]
    }
   ],
   "source": [
    "def loopje():\n",
    "    aantal = 0\n",
    "\n",
    "    for aantal in range(11):\n",
    "        print(f\"huidige getal: {aantal}\")\n",
    "        aantal += 1\n",
    "\n",
    "loopje()"
   ]
  },
  {
   "cell_type": "markdown",
   "metadata": {},
   "source": [
    "Schrijf de methode checkEven die achtereenvolgens 12 getallen inleest en afdrukt hoe vaak het ingevoerde getal even was."
   ]
  },
  {
   "cell_type": "code",
   "execution_count": 12,
   "metadata": {},
   "outputs": [
    {
     "name": "stdout",
     "output_type": "stream",
     "text": [
      "Er waren 6 even getallen in de 12 opvolgende getallen\n"
     ]
    }
   ],
   "source": [
    "def checkEven():\n",
    "    evenNumbers = 0\n",
    "    \n",
    "    number : int = int(input(\"Geef een getal op: \"))\n",
    "    for i in range(11):\n",
    "        if ((number + i) % 2 == 0):\n",
    "            evenNumbers += 1\n",
    "    \n",
    "    print(f\"Er waren {evenNumbers} even getallen in de 12 opvolgende getallen\")\n",
    "\n",
    "checkEven()"
   ]
  },
  {
   "cell_type": "markdown",
   "metadata": {},
   "source": [
    "## Objectoriëntatie"
   ]
  },
  {
   "cell_type": "markdown",
   "metadata": {},
   "source": [
    "Maak een minisysteem voor een kledingwinkel. Maak verschillende klassen voor verschillende soorten kledingstukken, waarbij sommige klassen geërfd worden van andere klassen.\n",
    "- Maak een klasse Kledingstuk aan, waarin door de constructor een merk, een maat en een prijs geïnitialiseerd worden.\n",
    "- Maak een klasse Broek en een klasse Shirt, beide erven van de klasse Kledingstuk. Voeg aan Broek een broek_type, en aan Shirt een shirt_type toe (d.m.v. constructorgebruik).\n",
    "- Maak een klasse Spijkerbroek die erft van broek en een klasse Poloshirt die erft van shirt. Voeg aan Spijkerbroek een blauwtint toe, en aan Poloshirt een kraagsoort (d.m.v. constructorgebruik).\n",
    "- Implementeer in elke klasse een beschrijf-methode, waarmee alle informatie over het betreffende kledingstuk wordt afgedrukt.\n",
    "- Maak van elke klasse een object aan en roep de beschrijfmethode aan. Controleer nauwkeurig of alles naar behoren werkt."
   ]
  },
  {
   "cell_type": "code",
   "execution_count": 21,
   "metadata": {},
   "outputs": [
    {
     "name": "stdout",
     "output_type": "stream",
     "text": [
      "Beschrijving kleding stuk:\n",
      "Merk: Marco\n",
      "Maat: 52\n",
      "Prijs: 89.99\n",
      "Shirt type: 60+\n",
      "Kraagsoort: Normaal\n",
      "\n",
      "Beschrijving kleding stuk:\n",
      "Merk: Schroef\n",
      "Maat: 168\n",
      "Prijs: 99.99\n",
      "Broek type: Spijker\n",
      "blauwTint: blauwachtig\n"
     ]
    }
   ],
   "source": [
    "class Kledingstuk():\n",
    "    def __init__(self, merk : str, maat: int, prijs : float):\n",
    "        self.merk = merk\n",
    "        self.maat = maat\n",
    "        self.prijs = prijs\n",
    "    \n",
    "    def beschrijf(self):\n",
    "        print(f\"Beschrijving kleding stuk:\\nMerk: {self.merk}\\nMaat: {self.maat}\\nPrijs: {self.prijs}\")\n",
    "\n",
    "class Broek(Kledingstuk):\n",
    "    def __init__(self, merk : str, maat : int, prijs:  float, type : str):\n",
    "        super().__init__(merk, maat, prijs)\n",
    "        self.broekType = type\n",
    "    \n",
    "    def beschrijf(self):\n",
    "        super().beschrijf()\n",
    "        print(f\"Broek type: {self.broekType}\")\n",
    "\n",
    "class SpijkerBroek(Broek):\n",
    "    def __init__(self, merk : str, maat : int, prijs : float, type : str, blauwTint : str):\n",
    "        super().__init__(merk, maat, prijs, type)\n",
    "        self.blauwTint = blauwTint\n",
    "    \n",
    "    def beschrijf(self):\n",
    "        super().beschrijf()\n",
    "        print(f\"blauwTint: {self.blauwTint}\")\n",
    "\n",
    "class Shirt(Kledingstuk):\n",
    "    def __init__(self, merk : str, maat: int, prijs: float, type : str):\n",
    "        super().__init__(merk, maat, prijs)\n",
    "        self.shirtType = type\n",
    "    \n",
    "    def beschrijf(self):\n",
    "        super().beschrijf()\n",
    "        print(f\"Shirt type: {self.shirtType}\")\n",
    "\n",
    "class Poloshirt(Shirt):\n",
    "    def __init__(self, merk : str, maat : int, prijs : float, type : str, kraagSoort : str):\n",
    "        super().__init__(merk, maat, prijs, type)\n",
    "        self.kraagSoort = kraagSoort\n",
    "    \n",
    "    def beschrijf(self):\n",
    "        super().beschrijf()\n",
    "        print(f\"Kraagsoort: {self.kraagSoort}\")\n",
    "\n",
    "\n",
    "Poloshirt(\"Marco\", 52, 89.99, \"60+\", \"Normaal\").beschrijf()\n",
    "print()\n",
    "SpijkerBroek(\"Schroef\", 168, 99.99, \"Spijker\", \"blauwachtig\").beschrijf()"
   ]
  },
  {
   "cell_type": "markdown",
   "metadata": {},
   "source": [
    "Opmerking: in themaweken 2 t/m 8 ga je objectoriëntatie waarschijnlijk veel minder vaak gebruiken dan de andere boven- en ondergenoemde programmeertechnieken.<br>\n",
    "Maar let op: in themaweken 9 en 10 komt objectoriëntatie <b><u>uitvoerig</u></b> aan de orde. Zorg dus dat je deze kennis niet vergeet!"
   ]
  },
  {
   "cell_type": "markdown",
   "metadata": {},
   "source": [
    "## Verzamelingen"
   ]
  },
  {
   "cell_type": "markdown",
   "metadata": {},
   "source": [
    "Kijk nu naar alle info onder het kopje *Verzamelingen* van de cheatsheet *Van Java naar Python - Cheatsheet*."
   ]
  },
  {
   "cell_type": "markdown",
   "metadata": {},
   "source": [
    "Initialiseer een lijst met de naam mijn_lijst met de volgende waarden:<br>\n",
    "Jelle, Marleen, Henk, Fatima, Jelle, Henk"
   ]
  },
  {
   "cell_type": "code",
   "execution_count": 15,
   "metadata": {},
   "outputs": [
    {
     "name": "stdout",
     "output_type": "stream",
     "text": [
      "['Jelle', 'Marleen', 'Henk', 'Fatima', 'Jelle', 'Henk']\n"
     ]
    }
   ],
   "source": [
    "mijnLijst = [\"Jelle\", \"Marleen\", \"Henk\", \"Fatima\", \"Jelle\", \"Henk\"]\n",
    "print(mijnLijst)"
   ]
  },
  {
   "cell_type": "markdown",
   "metadata": {},
   "source": [
    "Probeer nu de eerste waarde uit te lijst te veranderen in een naam naar keuze. Lukt dat?"
   ]
  },
  {
   "cell_type": "code",
   "execution_count": 16,
   "metadata": {},
   "outputs": [
    {
     "name": "stdout",
     "output_type": "stream",
     "text": [
      "Veranderaard\n"
     ]
    }
   ],
   "source": [
    "mijnLijst[0] = \"Veranderaard\"\n",
    "print(mijnLijst[0])"
   ]
  },
  {
   "cell_type": "markdown",
   "metadata": {},
   "source": [
    "Maak van bovengenoemde lijst nu een tupel, genaamd: mijn_tupel."
   ]
  },
  {
   "cell_type": "code",
   "execution_count": 17,
   "metadata": {},
   "outputs": [],
   "source": [
    "mijnTupel = tuple(mijnLijst)"
   ]
  },
  {
   "cell_type": "markdown",
   "metadata": {},
   "source": [
    "Probeer nu de eerste waarde uit te tupel te veranderen in een naam naar keuze. Lukt dat?"
   ]
  },
  {
   "cell_type": "code",
   "execution_count": 18,
   "metadata": {},
   "outputs": [
    {
     "name": "stdout",
     "output_type": "stream",
     "text": [
      "('Veranderaar', 'Marleen', 'Henk', 'Fatima', 'Jelle', 'Henk')\n"
     ]
    }
   ],
   "source": [
    "mijnTupel = (\"Veranderaar\",) + mijnTupel[1:]\n",
    "print(mijnTupel)"
   ]
  },
  {
   "cell_type": "markdown",
   "metadata": {},
   "source": [
    "Initialiseer een dictionary met de volgende key-value-combinaties:\n",
    "- naam: \"Jelle\"\n",
    "- leeftijd: 28\n",
    "- beroep: \"Docent\"\n",
    "- hobby: \"Volleybal\""
   ]
  },
  {
   "cell_type": "code",
   "execution_count": 22,
   "metadata": {},
   "outputs": [
    {
     "name": "stdout",
     "output_type": "stream",
     "text": [
      "{'naam': 'Jelle', 'leeftijd': 28, 'beroep': 'Docent', 'hobby': 'Volleybal'}\n"
     ]
    }
   ],
   "source": [
    "dictionary = {\n",
    "    \"naam\" : \"Jelle\",\n",
    "    \"leeftijd\" : 28,\n",
    "    \"beroep\" : \"Docent\",\n",
    "    \"hobby\" : \"Volleybal\"\n",
    "}\n",
    "\n",
    "print(dictionary)"
   ]
  },
  {
   "cell_type": "markdown",
   "metadata": {},
   "source": [
    "Probeer nu de naam te veranderen naar een naam naar keuze. Lukt dat?"
   ]
  },
  {
   "cell_type": "code",
   "execution_count": 20,
   "metadata": {},
   "outputs": [
    {
     "name": "stdout",
     "output_type": "stream",
     "text": [
      "{'naam': 'naam', 'leeftijd': 28, 'beroep': 'Docent', 'hobby': 'Volleybal'}\n"
     ]
    }
   ],
   "source": [
    "dictionary[\"naam\"] = \"naam\"\n",
    "print(dictionary)"
   ]
  }
 ],
 "metadata": {
  "kernelspec": {
   "display_name": ".venv",
   "language": "python",
   "name": "python3"
  },
  "language_info": {
   "codemirror_mode": {
    "name": "ipython",
    "version": 3
   },
   "file_extension": ".py",
   "mimetype": "text/x-python",
   "name": "python",
   "nbconvert_exporter": "python",
   "pygments_lexer": "ipython3",
   "version": "3.12.5"
  }
 },
 "nbformat": 4,
 "nbformat_minor": 2
}
