{
 "cells": [
  {
   "cell_type": "markdown",
   "metadata": {},
   "source": [
    "# Werkcollege-opdrachten Week 1.3"
   ]
  },
  {
   "cell_type": "markdown",
   "metadata": {},
   "source": [
    "## Dependencies importeren"
   ]
  },
  {
   "cell_type": "markdown",
   "metadata": {},
   "source": [
    "Kopieer in het codeblok hieronder van het vorige practicum de import-code voor de dependencies die het vaakst worden gebruikt om data in te lezen. Geef er ook de gebruikelijke aliassen aan.<br>\n",
    "Zet eventuele warnings uit."
   ]
  },
  {
   "cell_type": "code",
   "execution_count": 102,
   "metadata": {},
   "outputs": [],
   "source": [
    "import pandas as pd\n",
    "import sqlite3 as sql"
   ]
  },
  {
   "cell_type": "markdown",
   "metadata": {},
   "source": [
    "Zet het bestand go_sales_train.sqlite in een makkelijk te vinden map"
   ]
  },
  {
   "cell_type": "markdown",
   "metadata": {},
   "source": [
    "## Databasetabellen inlezen"
   ]
  },
  {
   "cell_type": "markdown",
   "metadata": {},
   "source": [
    "Kopieer in het codeblok hieronder van het vorige practicum de code om een connectie met het bestand go_sales_train.sqlite te maken."
   ]
  },
  {
   "cell_type": "code",
   "execution_count": 103,
   "metadata": {},
   "outputs": [],
   "source": [
    "goSalesTrainConn = sql.connect(\"./SQL/go_sales_train.sqlite\")"
   ]
  },
  {
   "cell_type": "markdown",
   "metadata": {},
   "source": [
    "Lees van de ingelezen go_sales_train-database te volgende tabellen in met behulp van \"SELECT * FROM *tabel*\".\n",
    "- product\n",
    "- product_type\n",
    "- product_line\n",
    "- sales_staff\n",
    "- sales_branch\n",
    "- retailer_site\n",
    "- country\n",
    "- order_header\n",
    "- order_details\n",
    "- returned_item\n",
    "- return_reason"
   ]
  },
  {
   "cell_type": "code",
   "execution_count": 104,
   "metadata": {},
   "outputs": [
    {
     "name": "stdout",
     "output_type": "stream",
     "text": [
      "     PRODUCT_NUMBER INTRODUCTION_DATE  PRODUCT_TYPE_CODE  PRODUCTION_COST  \\\n",
      "0                 1        1995-02-15                  1             4.00   \n",
      "1                 2        1995-02-15                  1             9.22   \n",
      "2                 3        1995-02-15                  1            15.93   \n",
      "3                 4        1995-02-15                  1             5.00   \n",
      "4                 5        1995-02-15                  1            34.97   \n",
      "..              ...               ...                ...              ...   \n",
      "110             111        2003-12-15                 20            81.80   \n",
      "111             112        2004-01-10                 21             6.00   \n",
      "112             113        2004-01-15                 21             6.00   \n",
      "113             114        2003-12-15                 21            80.00   \n",
      "114             115        2003-12-27                 21             5.00   \n",
      "\n",
      "     MARGIN    PRODUCT_IMAGE LANGUAGE                 PRODUCT_NAME  \\\n",
      "0      0.33    P01CE1CG1.jpg       EN          TrailChef Water Bag   \n",
      "1      0.23    P02CE1CG1.jpg       EN            TrailChef Canteen   \n",
      "2      0.28    P03CE1CG1.jpg       EN        TrailChef Kitchen Kit   \n",
      "3      0.28    P04CE1CG1.jpg       EN                TrailChef Cup   \n",
      "4      0.30    P05CE1CG1.jpg       EN           TrailChef Cook Set   \n",
      "..      ...              ...      ...                          ...   \n",
      "110    0.55  P111GE5PT20.jpg       EN        Blue Steel Max Putter   \n",
      "111    0.33  P112GE5GA21.jpg       EN  Course Pro Golf and Tee Set   \n",
      "112    0.50  P113GE5GA21.jpg       EN          Course Pro Umbrella   \n",
      "113    0.60  P114GE5GA21.jpg       EN          Course Pro Golf Bag   \n",
      "114    0.50  P115GE5GA21.jpg       EN            Course Pro Gloves   \n",
      "\n",
      "                                           DESCRIPTION  \n",
      "0    Lightweight, collapsible bag to carry liquids ...  \n",
      "1    Aluminum canteen. Rugged fleece-lined cover wi...  \n",
      "2    Zippered nylon pouch contains cutlery for two,...  \n",
      "3              Tin cup. Holds 0.4 liters. Weight: 60 g  \n",
      "4    All you will ever need on the trail.  Pot grip...  \n",
      "..                                                 ...  \n",
      "110  Putter head is composed from a single piece of...  \n",
      "111  Set includes two premium golf ball and an asso...  \n",
      "112       Large red and white patterned golf umbrella.  \n",
      "113  High quality golf bag that includes carrying s...  \n",
      "114  Durable nylon constructed gloves with stitched...  \n",
      "\n",
      "[115 rows x 9 columns]\n",
      "    PRODUCT_TYPE_CODE  PRODUCT_LINE_CODE       PRODUCT_TYPE_EN\n",
      "0                   1                  1          Cooking Gear\n",
      "1                   2                  1                 Tents\n",
      "2                   3                  1         Sleeping Bags\n",
      "3                   4                  1                 Packs\n",
      "4                   5                  1              Lanterns\n",
      "5                   6                  2                  Rope\n",
      "6                   7                  2                Safety\n",
      "7                   8                  2  Climbing Accessories\n",
      "8                   9                  2                 Tools\n",
      "9                  10                  3               Watches\n",
      "10                 11                  3               Eyewear\n",
      "11                 12                  3                Knives\n",
      "12                 13                  3            Binoculars\n",
      "13                 14                  3            Navigation\n",
      "14                 15                  4     Insect Repellents\n",
      "15                 16                  4             Sunscreen\n",
      "16                 17                  4             First Aid\n",
      "17                 18                  5                 Irons\n",
      "18                 19                  5                 Woods\n",
      "19                 20                  5               Putters\n",
      "20                 21                  5      Golf Accessories\n",
      "   PRODUCT_LINE_CODE           PRODUCT_LINE_EN\n",
      "0                  1         Camping Equipment\n",
      "1                  2  Mountaineering Equipment\n",
      "2                  3      Personal Accessories\n",
      "3                  4        Outdoor Protection\n",
      "4                  5            Golf Equipment\n",
      "     SALES_STAFF_CODE FIRST_NAME  LAST_NAME                   POSITION_EN  \\\n",
      "0                   4      Denis       Pagé                Branch Manager   \n",
      "1                   5  Élizabeth     Michel  Level 3 Sales Representative   \n",
      "2                   6      Émile   Clermont  Level 1 Sales Representative   \n",
      "3                   7    Étienne     Jauvin  Level 2 Sales Representative   \n",
      "4                  12    Elsbeth  Wiesinger  Level 2 Sales Representative   \n",
      "..                ...        ...        ...                           ...   \n",
      "97                120      Giele   Laermans  Level 1 Sales Representative   \n",
      "98                121   François    De Crée  Level 1 Sales Representative   \n",
      "99                122     Yvette    Lattrez  Level 3 Sales Representative   \n",
      "100               123      Willi  Seefelder  Level 2 Sales Representative   \n",
      "101               124     Sabine     Grüner  Level 3 Sales Representative   \n",
      "\n",
      "            WORK_PHONE  EXTENSION                FAX                   EMAIL  \\\n",
      "0    +33 1 68 94 52 20      325.0  +33 1 68 94 56 60       DPage@grtd123.com   \n",
      "1    +33 1 68 94 52 20      336.0  +33 1 68 94 56 60     EMichel@grtd123.com   \n",
      "2    +33 1 68 94 52 20      378.0  +33 1 68 94 56 60   EClermont@grtd123.com   \n",
      "3    +33 1 68 94 52 20      398.0  +33 1 68 94 56 60     EJauvin@grtd123.com   \n",
      "4    +(49) 40 663 1990     1818.0  +(49) 40 663 4571  EWiesinger@grtd123.com   \n",
      "..                 ...        ...                ...                     ...   \n",
      "97     +32 16 20.73.21     1340.0    +32 16 20.73.32   GLaermans@grtd123.com   \n",
      "98     +32 16 20.73.21     1642.0    +32 16 20.73.32     FDecree@grtd123.com   \n",
      "99     +32 16 20.73.21     1633.0    +32 16 20.73.32    YLattrez@grtd123.com   \n",
      "100  +(43) 13 79 56 32      325.0  +(43) 13 79 56 33  WSeefelder@grtd123.com   \n",
      "101  +(43) 13 79 56 32      348.0  +(43) 13 79 56 33     SGruner@grtd123.com   \n",
      "\n",
      "     DATE_HIRED  SALES_BRANCH_CODE  \n",
      "0    1996-11-03                  6  \n",
      "1    1995-06-08                  6  \n",
      "2    1998-04-07                  6  \n",
      "3    1997-08-16                  6  \n",
      "4    1997-02-27                 13  \n",
      "..          ...                ...  \n",
      "97   1999-11-15                 38  \n",
      "98   1999-12-01                 38  \n",
      "99   1999-12-09                 38  \n",
      "100  1998-10-28                 39  \n",
      "101  1998-02-18                 39  \n",
      "\n",
      "[102 rows x 10 columns]\n",
      "    SALES_BRANCH_CODE                          ADDRESS1           ADDRESS2  \\\n",
      "0                   6     75, rue du Faubourg St-Honoré               None   \n",
      "1                   7                   Piazza Duomo, 1               None   \n",
      "2                   9               Singelgravenplein 4      4e verdieping   \n",
      "3                  13                    Schwabentor 35               None   \n",
      "4                  14                  Leopoldstraße 36               None   \n",
      "5                  15               Isafjordsgatan 30 C               None   \n",
      "6                  17      7800, 756 - 6th Avenue. S.W.               None   \n",
      "7                  18                  789 Yonge Street               None   \n",
      "8                  19            1288 Dorchester Avenue               None   \n",
      "9                  20                   299 Yale Avenue               None   \n",
      "10                 21        1288 South Barrington Ave.               None   \n",
      "11                 22                    10032 NW 186th               None   \n",
      "12                 23               6c, rue de l'Église               None   \n",
      "13                 24  Prol. Paseo de la Reforma No. 51  Lomas de Santa Fe   \n",
      "14                 25               202-2-3 Hyakunincho        Shinjuku-ku   \n",
      "15                 26                     543-225 Asahi           Asahi-ku   \n",
      "16                 28                  2315 Queen's Ave            Level 2   \n",
      "17                 29     Plaza de la Constitución, s/n               None   \n",
      "18                 30             Avenida Paulista, 333   CJ 231 2o. Andar   \n",
      "19                 31                     Kauppakatu 33               None   \n",
      "20                 32             234-12, Kongdeok-Dong            Mapo-Ku   \n",
      "21                 33      154, Choung-Cheng South Road               None   \n",
      "22                 34          No. 1277 Beijing Xi Road               None   \n",
      "23                 35                    Victoria House    25 Ebury Street   \n",
      "24                 36                    3 Albany Court      Market Street   \n",
      "25                 37                    Birchstraße 13               None   \n",
      "26                 38                 Interleuvenlaan 2               None   \n",
      "27                 39                 Jedleser Straße 7               None   \n",
      "\n",
      "                CITY         REGION POSTAL_ZONE  COUNTRY_CODE  \n",
      "0              Paris           None     F-75008             1  \n",
      "1             Milano           None     I-20121             6  \n",
      "2          Amsterdam  Noord-Holland     1233 BW             7  \n",
      "3            Hamburg           None     D-22529             2  \n",
      "4            München           None     D-81241             2  \n",
      "5              Kista           None    S-164 40            10  \n",
      "6            Calgary        Alberta     T2P 3Z0             4  \n",
      "7            Toronto        Ontario     M2M 4K8             4  \n",
      "8             Boston  Massachusetts       02133             3  \n",
      "9            Seattle     Washington       98139             3  \n",
      "10       Los Angeles     California       90072             3  \n",
      "11             Miami        Florida       33024             3  \n",
      "12              Lyon           None     F-69002             1  \n",
      "13  Distrito Federal         México       01219            20  \n",
      "14             Tokyo          Tokyo    681-3187            11  \n",
      "15        Osaka City          Osaka    616-5698            11  \n",
      "16         Melbourne            VIC        2088            16  \n",
      "17            Bilbao        Vizcaya       48223            19  \n",
      "18         São Paulo             SP   01403-090            21  \n",
      "19            Kuopio           None   FIN-73100            22  \n",
      "20             Seoul           None     121-020            13  \n",
      "21         San Chung         Taipei         241            12  \n",
      "22          Shanghai           None      200040            14  \n",
      "23            London           None     N17 7LX             9  \n",
      "24        Birmingham  West Midlands     B43 7NP             9  \n",
      "25            Zürich           None     CH-8057             8  \n",
      "26          Heverlee           None      B-3001            17  \n",
      "27              Wien           None      A-1210             5  \n",
      "     RETAILER_SITE_CODE  RETAILER_CODE            ADDRESS1 ADDRESS2  \\\n",
      "0                     1             89  1117 Franklin Blvd     None   \n",
      "1                     2             89     45, rue Atwater     None   \n",
      "2                     3             89    328 Hodgson Road     None   \n",
      "3                     4             90      2425, rue Peel     None   \n",
      "4                     5             90       34 8th Avenue     None   \n",
      "..                  ...            ...                 ...      ...   \n",
      "386                 439            209     Hüttenstraße 87     None   \n",
      "387                 440            209      Hauptstraße 85     None   \n",
      "388                 441            209          Amselweg 8     None   \n",
      "389                 442            209       Hasengasse 38     None   \n",
      "390                 443            210     Hammerstraße 26     None   \n",
      "\n",
      "               CITY         REGION POSTAL_ZONE  COUNTRY_CODE  ACTIVE_INDICATOR  \n",
      "0          Winnipeg       Manitoba     R2C 0M5             4                 1  \n",
      "1          Montréal         Québec     H2T 9K8             4                 1  \n",
      "2       Fredericton  New Brunswick     E3B 2H2             4                 1  \n",
      "3          Montréal         Québec     H4G 3T4             4                 1  \n",
      "4           Sudbury        Ontario     M5V 1G5             4                 1  \n",
      "..              ...            ...         ...           ...               ...  \n",
      "386  Klosterneuburg           None      A-3400             5                 1  \n",
      "387            Linz           None      A-4015             5                 1  \n",
      "388       Innsbruck           None      A-6020             5                 1  \n",
      "389          Ischgl           None      A-6561             5                 1  \n",
      "390       Innsbruck           None      A-6020             5                 1  \n",
      "\n",
      "[391 rows x 9 columns]\n",
      "    COUNTRY_CODE         COUNTRY LANGUAGE CURRENCY_NAME\n",
      "0              1          France       EN        francs\n",
      "1              2         Germany       EN         marks\n",
      "2              3   United States       EN       dollars\n",
      "3              4          Canada       EN       dollars\n",
      "4              5         Austria       EN    schillings\n",
      "5              6           Italy       EN          lira\n",
      "6              7     Netherlands       EN      guilders\n",
      "7              8     Switzerland       EN        francs\n",
      "8              9  United Kingdom       EN        pounds\n",
      "9             10          Sweden       EN         krona\n",
      "10            11           Japan       EN           yen\n",
      "11            12          Taiwan       EN    new dollar\n",
      "12            13           Korea       EN           won\n",
      "13            14           China       EN      renminbi\n",
      "14            16       Australia       EN       dollars\n",
      "15            17         Belgium       EN        francs\n",
      "16            18         Denmark       EN        kroner\n",
      "17            19           Spain       EN       pesetas\n",
      "18            20          Mexico       EN         pesos\n",
      "19            21          Brazil       EN         reals\n",
      "20            22         Finland       EN        markka\n",
      "      ORDER_NUMBER RETAILER_NAME  RETAILER_SITE_CODE  RETAILER_CONTACT_CODE  \\\n",
      "0             1153  Ultra Sports                   4                      6   \n",
      "1             1154  Ultra Sports                   4                      6   \n",
      "2             1155  Ultra Sports                   5                     65   \n",
      "3             1156  Ultra Sports                   5                     65   \n",
      "4             1157  Ultra Sports                   6                     66   \n",
      "...            ...           ...                 ...                    ...   \n",
      "4779          9475  Preben's T°y                 338                    329   \n",
      "4780          9476  Preben's T°y                 336                    327   \n",
      "4781          9477  Preben's T°y                 338                    329   \n",
      "4782          9478  Preben's T°y                 336                    327   \n",
      "4783          9479  Preben's T°y                 338                    329   \n",
      "\n",
      "      SALES_STAFF_CODE  SALES_BRANCH_CODE  ORDER_DATE  ORDER_METHOD_CODE  \n",
      "0                   50                 18  2022-04-14                  7  \n",
      "1                   50                 18  2022-10-01                  4  \n",
      "2                   49                 18  2022-04-21                  7  \n",
      "3                   49                 18  2022-09-09                  5  \n",
      "4                   50                 18  2022-04-10                  2  \n",
      "...                ...                ...         ...                ...  \n",
      "4779                29                 15  2022-01-13                  4  \n",
      "4780                29                 15  2023-01-02                  5  \n",
      "4781                29                 15  2023-01-18                  2  \n",
      "4782                27                 15  2024-01-15                  7  \n",
      "4783                27                 15  2024-02-02                  5  \n",
      "\n",
      "[4784 rows x 8 columns]\n",
      "       ORDER_DETAIL_CODE  ORDER_NUMBER  PRODUCT_NUMBER  QUANTITY  UNIT_COST  \\\n",
      "0                  47737          1638               1        84       4.38   \n",
      "1                  47738          1159               1       126       4.38   \n",
      "2                  47739          1171               1       122       4.38   \n",
      "3                  47740          1154               1       122       4.38   \n",
      "4                  47741          1205               1       272       4.38   \n",
      "...                  ...           ...             ...       ...        ...   \n",
      "37752             115289          7631             112        70       6.00   \n",
      "37753             115290          7627             113        44       6.00   \n",
      "37754             115291          7630             114         8      80.00   \n",
      "37755             115292          7631             115        24       5.00   \n",
      "37756             115293          7627             115        56       5.00   \n",
      "\n",
      "       UNIT_PRICE  UNIT_SALE_PRICE  \n",
      "0            6.59             6.59  \n",
      "1            6.59             6.59  \n",
      "2            6.59             6.03  \n",
      "3            6.59             6.59  \n",
      "4            6.59             5.26  \n",
      "...           ...              ...  \n",
      "37752        9.00             9.00  \n",
      "37753       12.00             9.00  \n",
      "37754      200.00           140.00  \n",
      "37755       10.00            10.00  \n",
      "37756       10.00             7.50  \n",
      "\n",
      "[37757 rows x 7 columns]\n",
      "     RETURN_CODE          RETURN_DATE  ORDER_DETAIL_CODE  RETURN_REASON_CODE  \\\n",
      "0           1491  Aug  1 2023  4:10AM              84858                   5   \n",
      "1           1492  Dec  6 2022  6:46PM              84440                   2   \n",
      "2           1493  Jun 24 2023  9:23AM              84867                   4   \n",
      "3           1494  Jul 21 2023 12:00AM              84873                   3   \n",
      "4           1496  Oct  7 2022  5:13AM              84488                   1   \n",
      "..           ...                  ...                ...                 ...   \n",
      "614         2464  Dec  7 2023  5:14AM             114967                   1   \n",
      "615         2465  Jun  6 2023  9:22AM             114972                   3   \n",
      "616         2466  Oct  6 2023 12:31PM             114983                   5   \n",
      "617         2467  Mar 31 2024  3:39PM             115215                   4   \n",
      "618         2469  Sep 25 2022 10:56PM             114848                   3   \n",
      "\n",
      "     RETURN_QUANTITY  \n",
      "0                  8  \n",
      "1                  2  \n",
      "2                 22  \n",
      "3                 20  \n",
      "4                  2  \n",
      "..               ...  \n",
      "614               12  \n",
      "615               24  \n",
      "616               66  \n",
      "617               64  \n",
      "618               82  \n",
      "\n",
      "[619 rows x 5 columns]\n",
      "   RETURN_REASON_CODE   RETURN_DESCRIPTION_EN\n",
      "0                   1       Defective product\n",
      "1                   2      Incomplete product\n",
      "2                   3   Wrong product ordered\n",
      "3                   4   Wrong product shipped\n",
      "4                   5  Unsatisfactory product\n"
     ]
    }
   ],
   "source": [
    "tables = [\n",
    "    \"product\",\n",
    "    \"product_type\",\n",
    "    \"product_line\",\n",
    "    \"sales_staff\",\n",
    "    \"sales_branch\",\n",
    "    \"retailer_site\",\n",
    "    \"country\",\n",
    "    \"order_header\",\n",
    "    \"order_details\",\n",
    "    \"returned_item\",\n",
    "    \"return_reason\"\n",
    "]\n",
    "\n",
    "for table in range(len(tables)):\n",
    "    selection = pd.read_sql(f\"SELECT * FROM {tables[table]}\", goSalesTrainConn)\n",
    "    print(selection)\n",
    "\n",
    "    "
   ]
  },
  {
   "cell_type": "markdown",
   "metadata": {},
   "source": [
    "Krijg je een \"no such table\" error? Dan heb je misschien met .connect() per ongeluk een leeg  databasebestand (.sqlite) aangemaakt. <u>Let op:</u> lees eventueel de informatie uit het Notebook van werkcollege 1.1b nog eens goed door."
   ]
  },
  {
   "cell_type": "markdown",
   "metadata": {},
   "source": [
    "Als je tijdens onderstaande opdrachten uit het oog verliest welke tabellen er allemaal zijn, kan je deze Pythoncode uitvoeren:"
   ]
  },
  {
   "cell_type": "code",
   "execution_count": 105,
   "metadata": {},
   "outputs": [
    {
     "data": {
      "text/html": [
       "<div>\n",
       "<style scoped>\n",
       "    .dataframe tbody tr th:only-of-type {\n",
       "        vertical-align: middle;\n",
       "    }\n",
       "\n",
       "    .dataframe tbody tr th {\n",
       "        vertical-align: top;\n",
       "    }\n",
       "\n",
       "    .dataframe thead th {\n",
       "        text-align: right;\n",
       "    }\n",
       "</style>\n",
       "<table border=\"1\" class=\"dataframe\">\n",
       "  <thead>\n",
       "    <tr style=\"text-align: right;\">\n",
       "      <th></th>\n",
       "      <th>name</th>\n",
       "    </tr>\n",
       "  </thead>\n",
       "  <tbody>\n",
       "    <tr>\n",
       "      <th>0</th>\n",
       "      <td>country</td>\n",
       "    </tr>\n",
       "    <tr>\n",
       "      <th>1</th>\n",
       "      <td>order_details</td>\n",
       "    </tr>\n",
       "    <tr>\n",
       "      <th>2</th>\n",
       "      <td>order_header</td>\n",
       "    </tr>\n",
       "    <tr>\n",
       "      <th>3</th>\n",
       "      <td>order_method</td>\n",
       "    </tr>\n",
       "    <tr>\n",
       "      <th>4</th>\n",
       "      <td>product</td>\n",
       "    </tr>\n",
       "    <tr>\n",
       "      <th>5</th>\n",
       "      <td>product_line</td>\n",
       "    </tr>\n",
       "    <tr>\n",
       "      <th>6</th>\n",
       "      <td>product_type</td>\n",
       "    </tr>\n",
       "    <tr>\n",
       "      <th>7</th>\n",
       "      <td>retailer_site</td>\n",
       "    </tr>\n",
       "    <tr>\n",
       "      <th>8</th>\n",
       "      <td>return_reason</td>\n",
       "    </tr>\n",
       "    <tr>\n",
       "      <th>9</th>\n",
       "      <td>returned_item</td>\n",
       "    </tr>\n",
       "    <tr>\n",
       "      <th>10</th>\n",
       "      <td>sales_branch</td>\n",
       "    </tr>\n",
       "    <tr>\n",
       "      <th>11</th>\n",
       "      <td>sales_staff</td>\n",
       "    </tr>\n",
       "  </tbody>\n",
       "</table>\n",
       "</div>"
      ],
      "text/plain": [
       "             name\n",
       "0         country\n",
       "1   order_details\n",
       "2    order_header\n",
       "3    order_method\n",
       "4         product\n",
       "5    product_line\n",
       "6    product_type\n",
       "7   retailer_site\n",
       "8   return_reason\n",
       "9   returned_item\n",
       "10   sales_branch\n",
       "11    sales_staff"
      ]
     },
     "execution_count": 105,
     "metadata": {},
     "output_type": "execute_result"
    }
   ],
   "source": [
    "sql_query = \"SELECT name FROM sqlite_master WHERE type='table';\"\n",
    "#Vul dit codeblok verder in\n",
    "#pd.read_sql(sql_query, ...)\n",
    "pd.read_sql(sql_query, goSalesTrainConn)\n",
    "#Op de puntjes hoort de connectie naar go_sales_train óf go_staff_train óf go_crm_train te staan."
   ]
  },
  {
   "cell_type": "markdown",
   "metadata": {},
   "source": [
    "erachter "
   ]
  },
  {
   "cell_type": "markdown",
   "metadata": {},
   "source": [
    "Let op! Voor alle onderstaande opdrachten mag je <u>alleen Python</u> gebruiken, <u>geen SQL!</u>"
   ]
  },
  {
   "cell_type": "markdown",
   "metadata": {},
   "source": [
    "## Selecties op één tabel zonder functies"
   ]
  },
  {
   "cell_type": "markdown",
   "metadata": {},
   "source": [
    "Geef een overzicht met daarin de producten en hun productiekosten waarvan de productiekosten lager dan 100 dollar en hoger dan 50 dollar ligt. (2 kolommen, 23 rijen)"
   ]
  },
  {
   "cell_type": "code",
   "execution_count": 106,
   "metadata": {},
   "outputs": [
    {
     "data": {
      "text/html": [
       "<div>\n",
       "<style scoped>\n",
       "    .dataframe tbody tr th:only-of-type {\n",
       "        vertical-align: middle;\n",
       "    }\n",
       "\n",
       "    .dataframe tbody tr th {\n",
       "        vertical-align: top;\n",
       "    }\n",
       "\n",
       "    .dataframe thead th {\n",
       "        text-align: right;\n",
       "    }\n",
       "</style>\n",
       "<table border=\"1\" class=\"dataframe\">\n",
       "  <thead>\n",
       "    <tr style=\"text-align: right;\">\n",
       "      <th></th>\n",
       "      <th>PRODUCT_NAME</th>\n",
       "      <th>PRODUCTION_COST</th>\n",
       "    </tr>\n",
       "  </thead>\n",
       "  <tbody>\n",
       "    <tr>\n",
       "      <th>5</th>\n",
       "      <td>TrailChef Deluxe Cook Set</td>\n",
       "      <td>85.11</td>\n",
       "    </tr>\n",
       "    <tr>\n",
       "      <th>7</th>\n",
       "      <td>TrailChef Double Flame</td>\n",
       "      <td>75.00</td>\n",
       "    </tr>\n",
       "    <tr>\n",
       "      <th>16</th>\n",
       "      <td>Hibernator Lite</td>\n",
       "      <td>60.00</td>\n",
       "    </tr>\n",
       "    <tr>\n",
       "      <th>17</th>\n",
       "      <td>Hibernator</td>\n",
       "      <td>86.00</td>\n",
       "    </tr>\n",
       "    <tr>\n",
       "      <th>19</th>\n",
       "      <td>Hibernator Self - Inflating Mat</td>\n",
       "      <td>78.55</td>\n",
       "    </tr>\n",
       "    <tr>\n",
       "      <th>22</th>\n",
       "      <td>Hibernator Camp Cot</td>\n",
       "      <td>65.33</td>\n",
       "    </tr>\n",
       "    <tr>\n",
       "      <th>23</th>\n",
       "      <td>Canyon Mule Climber Backpack</td>\n",
       "      <td>62.50</td>\n",
       "    </tr>\n",
       "    <tr>\n",
       "      <th>45</th>\n",
       "      <td>Granite Climbing Helmet</td>\n",
       "      <td>52.86</td>\n",
       "    </tr>\n",
       "    <tr>\n",
       "      <th>47</th>\n",
       "      <td>Husky Harness Extreme</td>\n",
       "      <td>55.00</td>\n",
       "    </tr>\n",
       "    <tr>\n",
       "      <th>57</th>\n",
       "      <td>Granite Hammer</td>\n",
       "      <td>57.13</td>\n",
       "    </tr>\n",
       "    <tr>\n",
       "      <th>68</th>\n",
       "      <td>Polar Ice</td>\n",
       "      <td>73.33</td>\n",
       "    </tr>\n",
       "    <tr>\n",
       "      <th>69</th>\n",
       "      <td>Polar Sports</td>\n",
       "      <td>80.00</td>\n",
       "    </tr>\n",
       "    <tr>\n",
       "      <th>70</th>\n",
       "      <td>Polar Wave</td>\n",
       "      <td>60.00</td>\n",
       "    </tr>\n",
       "    <tr>\n",
       "      <th>71</th>\n",
       "      <td>Polar Extreme</td>\n",
       "      <td>72.50</td>\n",
       "    </tr>\n",
       "    <tr>\n",
       "      <th>74</th>\n",
       "      <td>Edge Extreme</td>\n",
       "      <td>80.00</td>\n",
       "    </tr>\n",
       "    <tr>\n",
       "      <th>77</th>\n",
       "      <td>Seeker 35</td>\n",
       "      <td>79.19</td>\n",
       "    </tr>\n",
       "    <tr>\n",
       "      <th>78</th>\n",
       "      <td>Seeker 50</td>\n",
       "      <td>92.58</td>\n",
       "    </tr>\n",
       "    <tr>\n",
       "      <th>79</th>\n",
       "      <td>Seeker Extreme</td>\n",
       "      <td>94.12</td>\n",
       "    </tr>\n",
       "    <tr>\n",
       "      <th>82</th>\n",
       "      <td>Glacier Deluxe</td>\n",
       "      <td>56.25</td>\n",
       "    </tr>\n",
       "    <tr>\n",
       "      <th>83</th>\n",
       "      <td>Glacier GPS</td>\n",
       "      <td>78.55</td>\n",
       "    </tr>\n",
       "    <tr>\n",
       "      <th>109</th>\n",
       "      <td>Blue Steel Putter</td>\n",
       "      <td>60.00</td>\n",
       "    </tr>\n",
       "    <tr>\n",
       "      <th>110</th>\n",
       "      <td>Blue Steel Max Putter</td>\n",
       "      <td>81.80</td>\n",
       "    </tr>\n",
       "    <tr>\n",
       "      <th>113</th>\n",
       "      <td>Course Pro Golf Bag</td>\n",
       "      <td>80.00</td>\n",
       "    </tr>\n",
       "  </tbody>\n",
       "</table>\n",
       "</div>"
      ],
      "text/plain": [
       "                        PRODUCT_NAME  PRODUCTION_COST\n",
       "5          TrailChef Deluxe Cook Set            85.11\n",
       "7             TrailChef Double Flame            75.00\n",
       "16                   Hibernator Lite            60.00\n",
       "17                        Hibernator            86.00\n",
       "19   Hibernator Self - Inflating Mat            78.55\n",
       "22               Hibernator Camp Cot            65.33\n",
       "23      Canyon Mule Climber Backpack            62.50\n",
       "45           Granite Climbing Helmet            52.86\n",
       "47             Husky Harness Extreme            55.00\n",
       "57                    Granite Hammer            57.13\n",
       "68                         Polar Ice            73.33\n",
       "69                      Polar Sports            80.00\n",
       "70                        Polar Wave            60.00\n",
       "71                     Polar Extreme            72.50\n",
       "74                      Edge Extreme            80.00\n",
       "77                         Seeker 35            79.19\n",
       "78                         Seeker 50            92.58\n",
       "79                    Seeker Extreme            94.12\n",
       "82                    Glacier Deluxe            56.25\n",
       "83                       Glacier GPS            78.55\n",
       "109                Blue Steel Putter            60.00\n",
       "110            Blue Steel Max Putter            81.80\n",
       "113              Course Pro Golf Bag            80.00"
      ]
     },
     "execution_count": 106,
     "metadata": {},
     "output_type": "execute_result"
    }
   ],
   "source": [
    "products = pd.read_sql(\"SELECT * FROM product\", goSalesTrainConn)\n",
    "\n",
    "productionCostsInfo = products[(products[\"PRODUCTION_COST\"] > 50) & (products[\"PRODUCTION_COST\"] < 100)]\n",
    "productionCostsSpecific = productionCostsInfo[[\"PRODUCT_NAME\", \"PRODUCTION_COST\"]]\n",
    "\n",
    "productionCostsSpecific"
   ]
  },
  {
   "cell_type": "markdown",
   "metadata": {},
   "source": [
    "Geef een overzicht met daarin de producten en hun marge waarvan de marge lager dan 20 % of hoger dan 60 % ligt. (2 kolommen, 7 rijen) "
   ]
  },
  {
   "cell_type": "code",
   "execution_count": 107,
   "metadata": {},
   "outputs": [
    {
     "data": {
      "text/html": [
       "<div>\n",
       "<style scoped>\n",
       "    .dataframe tbody tr th:only-of-type {\n",
       "        vertical-align: middle;\n",
       "    }\n",
       "\n",
       "    .dataframe tbody tr th {\n",
       "        vertical-align: top;\n",
       "    }\n",
       "\n",
       "    .dataframe thead th {\n",
       "        text-align: right;\n",
       "    }\n",
       "</style>\n",
       "<table border=\"1\" class=\"dataframe\">\n",
       "  <thead>\n",
       "    <tr style=\"text-align: right;\">\n",
       "      <th></th>\n",
       "      <th>PRODUCT_NAME</th>\n",
       "      <th>MARGIN</th>\n",
       "    </tr>\n",
       "  </thead>\n",
       "  <tbody>\n",
       "    <tr>\n",
       "      <th>20</th>\n",
       "      <td>Hibernator Pad</td>\n",
       "      <td>0.17</td>\n",
       "    </tr>\n",
       "    <tr>\n",
       "      <th>23</th>\n",
       "      <td>Canyon Mule Climber Backpack</td>\n",
       "      <td>0.17</td>\n",
       "    </tr>\n",
       "    <tr>\n",
       "      <th>85</th>\n",
       "      <td>BugShield Natural</td>\n",
       "      <td>0.67</td>\n",
       "    </tr>\n",
       "    <tr>\n",
       "      <th>86</th>\n",
       "      <td>BugShield Spray</td>\n",
       "      <td>0.67</td>\n",
       "    </tr>\n",
       "    <tr>\n",
       "      <th>87</th>\n",
       "      <td>BugShield Lotion Lite</td>\n",
       "      <td>0.70</td>\n",
       "    </tr>\n",
       "    <tr>\n",
       "      <th>88</th>\n",
       "      <td>BugShield Lotion</td>\n",
       "      <td>0.63</td>\n",
       "    </tr>\n",
       "    <tr>\n",
       "      <th>89</th>\n",
       "      <td>BugShield Extreme</td>\n",
       "      <td>0.63</td>\n",
       "    </tr>\n",
       "  </tbody>\n",
       "</table>\n",
       "</div>"
      ],
      "text/plain": [
       "                    PRODUCT_NAME  MARGIN\n",
       "20                Hibernator Pad    0.17\n",
       "23  Canyon Mule Climber Backpack    0.17\n",
       "85             BugShield Natural    0.67\n",
       "86               BugShield Spray    0.67\n",
       "87         BugShield Lotion Lite    0.70\n",
       "88              BugShield Lotion    0.63\n",
       "89             BugShield Extreme    0.63"
      ]
     },
     "execution_count": 107,
     "metadata": {},
     "output_type": "execute_result"
    }
   ],
   "source": [
    "prodctionMargeInfo = products[(products[\"MARGIN\"] < 0.2) | (products[\"MARGIN\"] > 0.6)]\n",
    "productionMargeSpecific = prodctionMargeInfo[[\"PRODUCT_NAME\", \"MARGIN\"]]\n",
    "productionMargeSpecific"
   ]
  },
  {
   "cell_type": "markdown",
   "metadata": {},
   "source": [
    "Geef een overzicht met daarin de landen waar met francs wordt betaald. Sorteer de uitkomst op land.  (1 kolom, 3 rijen)"
   ]
  },
  {
   "cell_type": "code",
   "execution_count": 108,
   "metadata": {},
   "outputs": [
    {
     "data": {
      "text/html": [
       "<div>\n",
       "<style scoped>\n",
       "    .dataframe tbody tr th:only-of-type {\n",
       "        vertical-align: middle;\n",
       "    }\n",
       "\n",
       "    .dataframe tbody tr th {\n",
       "        vertical-align: top;\n",
       "    }\n",
       "\n",
       "    .dataframe thead th {\n",
       "        text-align: right;\n",
       "    }\n",
       "</style>\n",
       "<table border=\"1\" class=\"dataframe\">\n",
       "  <thead>\n",
       "    <tr style=\"text-align: right;\">\n",
       "      <th></th>\n",
       "      <th>COUNTRY</th>\n",
       "    </tr>\n",
       "  </thead>\n",
       "  <tbody>\n",
       "    <tr>\n",
       "      <th>0</th>\n",
       "      <td>France</td>\n",
       "    </tr>\n",
       "    <tr>\n",
       "      <th>7</th>\n",
       "      <td>Switzerland</td>\n",
       "    </tr>\n",
       "    <tr>\n",
       "      <th>15</th>\n",
       "      <td>Belgium</td>\n",
       "    </tr>\n",
       "  </tbody>\n",
       "</table>\n",
       "</div>"
      ],
      "text/plain": [
       "        COUNTRY\n",
       "0        France\n",
       "7   Switzerland\n",
       "15      Belgium"
      ]
     },
     "execution_count": 108,
     "metadata": {},
     "output_type": "execute_result"
    }
   ],
   "source": [
    "countries = pd.read_sql(\"SELECT * FROM Country\", goSalesTrainConn)\n",
    "\n",
    "countriesCurrencyInfo = countries[countries[\"CURRENCY_NAME\"] == \"francs\"]\n",
    "countriesCurrencySpecific = countriesCurrencyInfo[[\"COUNTRY\"]]\n",
    "\n",
    "countriesCurrencySpecific\n"
   ]
  },
  {
   "cell_type": "markdown",
   "metadata": {},
   "source": [
    "Geef een overzicht met daarin de verschillende introductiedatums waarop producten met meer dan 50% marge worden geïntroduceerd (1 kolom, 7 rijen) "
   ]
  },
  {
   "cell_type": "code",
   "execution_count": 109,
   "metadata": {},
   "outputs": [
    {
     "data": {
      "text/html": [
       "<div>\n",
       "<style scoped>\n",
       "    .dataframe tbody tr th:only-of-type {\n",
       "        vertical-align: middle;\n",
       "    }\n",
       "\n",
       "    .dataframe tbody tr th {\n",
       "        vertical-align: top;\n",
       "    }\n",
       "\n",
       "    .dataframe thead th {\n",
       "        text-align: right;\n",
       "    }\n",
       "</style>\n",
       "<table border=\"1\" class=\"dataframe\">\n",
       "  <thead>\n",
       "    <tr style=\"text-align: right;\">\n",
       "      <th></th>\n",
       "      <th>INTRODUCTION_DATE</th>\n",
       "    </tr>\n",
       "  </thead>\n",
       "  <tbody>\n",
       "    <tr>\n",
       "      <th>66</th>\n",
       "      <td>2000-10-26</td>\n",
       "    </tr>\n",
       "    <tr>\n",
       "      <th>85</th>\n",
       "      <td>1995-02-15</td>\n",
       "    </tr>\n",
       "    <tr>\n",
       "      <th>101</th>\n",
       "      <td>2003-12-10</td>\n",
       "    </tr>\n",
       "    <tr>\n",
       "      <th>103</th>\n",
       "      <td>2003-12-18</td>\n",
       "    </tr>\n",
       "    <tr>\n",
       "      <th>104</th>\n",
       "      <td>2003-12-27</td>\n",
       "    </tr>\n",
       "    <tr>\n",
       "      <th>106</th>\n",
       "      <td>2004-01-13</td>\n",
       "    </tr>\n",
       "    <tr>\n",
       "      <th>110</th>\n",
       "      <td>2003-12-15</td>\n",
       "    </tr>\n",
       "  </tbody>\n",
       "</table>\n",
       "</div>"
      ],
      "text/plain": [
       "    INTRODUCTION_DATE\n",
       "66         2000-10-26\n",
       "85         1995-02-15\n",
       "101        2003-12-10\n",
       "103        2003-12-18\n",
       "104        2003-12-27\n",
       "106        2004-01-13\n",
       "110        2003-12-15"
      ]
     },
     "execution_count": 109,
     "metadata": {},
     "output_type": "execute_result"
    }
   ],
   "source": [
    "productIntroductionInfo = products[products[\"MARGIN\"] > 0.5].drop_duplicates(subset=[\"INTRODUCTION_DATE\"])\n",
    "productIntroductionInfo\n",
    "productIntroductionSpecific = productIntroductionInfo[[\"INTRODUCTION_DATE\"]]\n",
    "\n",
    "productIntroductionSpecific"
   ]
  },
  {
   "cell_type": "markdown",
   "metadata": {},
   "source": [
    "Geef een overzicht met daarin het eerste adres en de stad van verkoopafdelingen waarvan zowel het tweede adres als de regio bekend is (2 kolommen, 78 rijen)"
   ]
  },
  {
   "cell_type": "code",
   "execution_count": 143,
   "metadata": {},
   "outputs": [
    {
     "data": {
      "text/html": [
       "<div>\n",
       "<style scoped>\n",
       "    .dataframe tbody tr th:only-of-type {\n",
       "        vertical-align: middle;\n",
       "    }\n",
       "\n",
       "    .dataframe tbody tr th {\n",
       "        vertical-align: top;\n",
       "    }\n",
       "\n",
       "    .dataframe thead th {\n",
       "        text-align: right;\n",
       "    }\n",
       "</style>\n",
       "<table border=\"1\" class=\"dataframe\">\n",
       "  <thead>\n",
       "    <tr style=\"text-align: right;\">\n",
       "      <th></th>\n",
       "      <th>ADDRESS1</th>\n",
       "      <th>CITY</th>\n",
       "    </tr>\n",
       "  </thead>\n",
       "  <tbody>\n",
       "    <tr>\n",
       "      <th>13</th>\n",
       "      <td>500, Place d'Armes</td>\n",
       "      <td>Montréal</td>\n",
       "    </tr>\n",
       "    <tr>\n",
       "      <th>31</th>\n",
       "      <td>Röntgenstraße 90</td>\n",
       "      <td>Frankfurt</td>\n",
       "    </tr>\n",
       "    <tr>\n",
       "      <th>59</th>\n",
       "      <td>Grubesallee 141</td>\n",
       "      <td>Hamburg</td>\n",
       "    </tr>\n",
       "    <tr>\n",
       "      <th>63</th>\n",
       "      <td>2479 Broad Street</td>\n",
       "      <td>Hartford</td>\n",
       "    </tr>\n",
       "    <tr>\n",
       "      <th>74</th>\n",
       "      <td>10423 Kenwood Road</td>\n",
       "      <td>Cincinnati</td>\n",
       "    </tr>\n",
       "    <tr>\n",
       "      <th>...</th>\n",
       "      <td>...</td>\n",
       "      <td>...</td>\n",
       "    </tr>\n",
       "    <tr>\n",
       "      <th>350</th>\n",
       "      <td>Albany House</td>\n",
       "      <td>Brighton</td>\n",
       "    </tr>\n",
       "    <tr>\n",
       "      <th>351</th>\n",
       "      <td>Bridge Court</td>\n",
       "      <td>Brighton</td>\n",
       "    </tr>\n",
       "    <tr>\n",
       "      <th>354</th>\n",
       "      <td>Exchange Court</td>\n",
       "      <td>Brighton</td>\n",
       "    </tr>\n",
       "    <tr>\n",
       "      <th>355</th>\n",
       "      <td>Keyford Court</td>\n",
       "      <td>Nottingham</td>\n",
       "    </tr>\n",
       "    <tr>\n",
       "      <th>357</th>\n",
       "      <td>Vanwall Business Park</td>\n",
       "      <td>Reading</td>\n",
       "    </tr>\n",
       "  </tbody>\n",
       "</table>\n",
       "<p>78 rows × 2 columns</p>\n",
       "</div>"
      ],
      "text/plain": [
       "                  ADDRESS1        CITY\n",
       "13      500, Place d'Armes    Montréal\n",
       "31        Röntgenstraße 90   Frankfurt\n",
       "59         Grubesallee 141     Hamburg\n",
       "63       2479 Broad Street    Hartford\n",
       "74      10423 Kenwood Road  Cincinnati\n",
       "..                     ...         ...\n",
       "350           Albany House    Brighton\n",
       "351           Bridge Court    Brighton\n",
       "354         Exchange Court    Brighton\n",
       "355          Keyford Court  Nottingham\n",
       "357  Vanwall Business Park     Reading\n",
       "\n",
       "[78 rows x 2 columns]"
      ]
     },
     "execution_count": 143,
     "metadata": {},
     "output_type": "execute_result"
    }
   ],
   "source": [
    "retails = pd.read_sql(\"SELECT * FROM retailer_site\", goSalesTrainConn)\n",
    "\n",
    "retailsInfo = retails[(retails[\"ADDRESS2\"].notna()) & (retails[\"REGION\"].notna())]\n",
    "retailsFilter = retailsInfo[[\"ADDRESS1\", \"CITY\"]]\n",
    "retailsFilter"
   ]
  },
  {
   "cell_type": "markdown",
   "metadata": {},
   "source": [
    "Geef een overzicht met daarin de landen waar met dollars (dollars of new dollar) wordt betaald. Sorteer de uitkomst op land. (1 kolom, 4 rijen) "
   ]
  },
  {
   "cell_type": "code",
   "execution_count": 146,
   "metadata": {},
   "outputs": [
    {
     "data": {
      "text/html": [
       "<div>\n",
       "<style scoped>\n",
       "    .dataframe tbody tr th:only-of-type {\n",
       "        vertical-align: middle;\n",
       "    }\n",
       "\n",
       "    .dataframe tbody tr th {\n",
       "        vertical-align: top;\n",
       "    }\n",
       "\n",
       "    .dataframe thead th {\n",
       "        text-align: right;\n",
       "    }\n",
       "</style>\n",
       "<table border=\"1\" class=\"dataframe\">\n",
       "  <thead>\n",
       "    <tr style=\"text-align: right;\">\n",
       "      <th></th>\n",
       "      <th>COUNTRY_CODE</th>\n",
       "      <th>COUNTRY</th>\n",
       "      <th>LANGUAGE</th>\n",
       "      <th>CURRENCY_NAME</th>\n",
       "    </tr>\n",
       "  </thead>\n",
       "  <tbody>\n",
       "    <tr>\n",
       "      <th>14</th>\n",
       "      <td>16</td>\n",
       "      <td>Australia</td>\n",
       "      <td>EN</td>\n",
       "      <td>dollars</td>\n",
       "    </tr>\n",
       "    <tr>\n",
       "      <th>3</th>\n",
       "      <td>4</td>\n",
       "      <td>Canada</td>\n",
       "      <td>EN</td>\n",
       "      <td>dollars</td>\n",
       "    </tr>\n",
       "    <tr>\n",
       "      <th>11</th>\n",
       "      <td>12</td>\n",
       "      <td>Taiwan</td>\n",
       "      <td>EN</td>\n",
       "      <td>new dollar</td>\n",
       "    </tr>\n",
       "    <tr>\n",
       "      <th>2</th>\n",
       "      <td>3</td>\n",
       "      <td>United States</td>\n",
       "      <td>EN</td>\n",
       "      <td>dollars</td>\n",
       "    </tr>\n",
       "  </tbody>\n",
       "</table>\n",
       "</div>"
      ],
      "text/plain": [
       "    COUNTRY_CODE        COUNTRY LANGUAGE CURRENCY_NAME\n",
       "14            16      Australia       EN       dollars\n",
       "3              4         Canada       EN       dollars\n",
       "11            12         Taiwan       EN    new dollar\n",
       "2              3  United States       EN       dollars"
      ]
     },
     "execution_count": 146,
     "metadata": {},
     "output_type": "execute_result"
    }
   ],
   "source": [
    "countriesCurrencyDollar = countries[(countries[\"CURRENCY_NAME\"] == \"dollars\") | (countries[\"CURRENCY_NAME\"] == \"new dollar\")]\n",
    "\n",
    "countriesCurrencyDollar = countriesCurrencyDollar.sort_values(by=[\"COUNTRY\"])\n",
    "\n",
    "countriesCurrencyDollar"
   ]
  },
  {
   "cell_type": "markdown",
   "metadata": {},
   "source": [
    "Geef een overzicht met daarin beide adressen en de stad van vestigingen van klanten waarvan de postcode begint met een ‘D’ (van duitsland). Filter op vestigingen die een tweede adres hebben. (3 kolommen, 2 rijen) "
   ]
  },
  {
   "cell_type": "code",
   "execution_count": 160,
   "metadata": {},
   "outputs": [
    {
     "data": {
      "text/html": [
       "<div>\n",
       "<style scoped>\n",
       "    .dataframe tbody tr th:only-of-type {\n",
       "        vertical-align: middle;\n",
       "    }\n",
       "\n",
       "    .dataframe tbody tr th {\n",
       "        vertical-align: top;\n",
       "    }\n",
       "\n",
       "    .dataframe thead th {\n",
       "        text-align: right;\n",
       "    }\n",
       "</style>\n",
       "<table border=\"1\" class=\"dataframe\">\n",
       "  <thead>\n",
       "    <tr style=\"text-align: right;\">\n",
       "      <th></th>\n",
       "      <th>ADDRESS1</th>\n",
       "      <th>ADDRESS2</th>\n",
       "      <th>CITY</th>\n",
       "    </tr>\n",
       "  </thead>\n",
       "  <tbody>\n",
       "    <tr>\n",
       "      <th>31</th>\n",
       "      <td>Röntgenstraße 90</td>\n",
       "      <td>3. Tür rechts</td>\n",
       "      <td>Frankfurt</td>\n",
       "    </tr>\n",
       "    <tr>\n",
       "      <th>59</th>\n",
       "      <td>Grubesallee 141</td>\n",
       "      <td>4. Stock</td>\n",
       "      <td>Hamburg</td>\n",
       "    </tr>\n",
       "  </tbody>\n",
       "</table>\n",
       "</div>"
      ],
      "text/plain": [
       "            ADDRESS1       ADDRESS2       CITY\n",
       "31  Röntgenstraße 90  3. Tür rechts  Frankfurt\n",
       "59   Grubesallee 141       4. Stock    Hamburg"
      ]
     },
     "execution_count": 160,
     "metadata": {},
     "output_type": "execute_result"
    }
   ],
   "source": [
    "retailsGermany = retails[(retails[\"POSTAL_ZONE\"].astype(str).str[0] == \"D\") & (retails[\"ADDRESS2\"].notna())]\n",
    "retailsGermany = retailsGermany[[\"ADDRESS1\", \"ADDRESS2\", \"CITY\"]]\n",
    "retailsGermany"
   ]
  },
  {
   "cell_type": "markdown",
   "metadata": {},
   "source": [
    "## Selecties op één tabel met functies"
   ]
  },
  {
   "cell_type": "markdown",
   "metadata": {},
   "source": [
    "Geef het totaal aantal producten dat is teruggebracht (1 waarde) "
   ]
  },
  {
   "cell_type": "code",
   "execution_count": 171,
   "metadata": {},
   "outputs": [
    {
     "data": {
      "text/html": [
       "<div>\n",
       "<style scoped>\n",
       "    .dataframe tbody tr th:only-of-type {\n",
       "        vertical-align: middle;\n",
       "    }\n",
       "\n",
       "    .dataframe tbody tr th {\n",
       "        vertical-align: top;\n",
       "    }\n",
       "\n",
       "    .dataframe thead th {\n",
       "        text-align: right;\n",
       "    }\n",
       "</style>\n",
       "<table border=\"1\" class=\"dataframe\">\n",
       "  <thead>\n",
       "    <tr style=\"text-align: right;\">\n",
       "      <th></th>\n",
       "      <th>RETUREND_QUANTITIES</th>\n",
       "    </tr>\n",
       "  </thead>\n",
       "  <tbody>\n",
       "    <tr>\n",
       "      <th>RETURN_QUANTITY</th>\n",
       "      <td>11908</td>\n",
       "    </tr>\n",
       "  </tbody>\n",
       "</table>\n",
       "</div>"
      ],
      "text/plain": [
       "                 RETUREND_QUANTITIES\n",
       "RETURN_QUANTITY                11908"
      ]
     },
     "execution_count": 171,
     "metadata": {},
     "output_type": "execute_result"
    }
   ],
   "source": [
    "returned = pd.read_sql(\"SELECT * FROM returned_item\", goSalesTrainConn)\n",
    "\n",
    "returendQuantity = pd.DataFrame({\"RETUREND_QUANTITIES\" : returned[[\"RETURN_QUANTITY\"]].sum()})\n",
    "\n",
    "returendQuantity"
   ]
  },
  {
   "cell_type": "markdown",
   "metadata": {},
   "source": [
    "Geef het aantal regio’s waarin verkoopafdelingen gevestigd zijn. (1 waarde)"
   ]
  },
  {
   "cell_type": "code",
   "execution_count": 178,
   "metadata": {},
   "outputs": [
    {
     "data": {
      "text/html": [
       "<div>\n",
       "<style scoped>\n",
       "    .dataframe tbody tr th:only-of-type {\n",
       "        vertical-align: middle;\n",
       "    }\n",
       "\n",
       "    .dataframe tbody tr th {\n",
       "        vertical-align: top;\n",
       "    }\n",
       "\n",
       "    .dataframe thead th {\n",
       "        text-align: right;\n",
       "    }\n",
       "</style>\n",
       "<table border=\"1\" class=\"dataframe\">\n",
       "  <thead>\n",
       "    <tr style=\"text-align: right;\">\n",
       "      <th></th>\n",
       "      <th>Regions</th>\n",
       "    </tr>\n",
       "  </thead>\n",
       "  <tbody>\n",
       "    <tr>\n",
       "      <th>REGION</th>\n",
       "      <td>15</td>\n",
       "    </tr>\n",
       "  </tbody>\n",
       "</table>\n",
       "</div>"
      ],
      "text/plain": [
       "        Regions\n",
       "REGION       15"
      ]
     },
     "execution_count": 178,
     "metadata": {},
     "output_type": "execute_result"
    }
   ],
   "source": [
    "stores = pd.read_sql(\"SELECT * FROM sales_branch\", goSalesTrainConn)\n",
    "\n",
    "totalRegions = pd.DataFrame({\"Regions\" : stores[[\"REGION\"]].drop_duplicates(subset=[\"REGION\"]).count()})\n",
    "\n",
    "totalRegions"
   ]
  },
  {
   "cell_type": "markdown",
   "metadata": {},
   "source": [
    "Maak 3 variabelen:\n",
    "- Een met de laagste\n",
    "- Een met de hoogste\n",
    "- Een met de gemiddelde (afgerond op 2 decimalen)\n",
    "\n",
    "marge van producten (3 kolommen, 1 rij) "
   ]
  },
  {
   "cell_type": "code",
   "execution_count": 227,
   "metadata": {},
   "outputs": [
    {
     "data": {
      "text/html": [
       "<div>\n",
       "<style scoped>\n",
       "    .dataframe tbody tr th:only-of-type {\n",
       "        vertical-align: middle;\n",
       "    }\n",
       "\n",
       "    .dataframe tbody tr th {\n",
       "        vertical-align: top;\n",
       "    }\n",
       "\n",
       "    .dataframe thead th {\n",
       "        text-align: right;\n",
       "    }\n",
       "</style>\n",
       "<table border=\"1\" class=\"dataframe\">\n",
       "  <thead>\n",
       "    <tr style=\"text-align: right;\">\n",
       "      <th></th>\n",
       "      <th>LOWEST</th>\n",
       "      <th>AVARGE</th>\n",
       "      <th>HIGHEST</th>\n",
       "    </tr>\n",
       "  </thead>\n",
       "  <tbody>\n",
       "    <tr>\n",
       "      <th>0</th>\n",
       "      <td>0.17</td>\n",
       "      <td>0.396609</td>\n",
       "      <td>0.7</td>\n",
       "    </tr>\n",
       "  </tbody>\n",
       "</table>\n",
       "</div>"
      ],
      "text/plain": [
       "   LOWEST    AVARGE  HIGHEST\n",
       "0    0.17  0.396609      0.7"
      ]
     },
     "execution_count": 227,
     "metadata": {},
     "output_type": "execute_result"
    }
   ],
   "source": [
    "lowest : float = products.nsmallest(1, \"MARGIN\")[\"MARGIN\"].iloc[0]\n",
    "highest : float = products.nlargest(1, \"MARGIN\")[\"MARGIN\"].iloc[0]\n",
    "allMargins : float = products[\"MARGIN\"].sum()\n",
    "avarage : float = allMargins / products[\"MARGIN\"].count()\n",
    "\n",
    "margeProductHighestLowest = pd.DataFrame({\n",
    "    \"LOWEST\" : [lowest],\n",
    "    \"AVARGE\" : [avarage],\n",
    "    \"HIGHEST\" : [highest]\n",
    "})\n",
    "\n",
    "margeProductHighestLowest"
   ]
  },
  {
   "cell_type": "markdown",
   "metadata": {},
   "source": [
    "Geef het aantal vestigingen van klanten waarvan het 2e adres niet bekend is (1 waarde)"
   ]
  },
  {
   "cell_type": "code",
   "execution_count": null,
   "metadata": {},
   "outputs": [],
   "source": []
  },
  {
   "cell_type": "markdown",
   "metadata": {},
   "source": [
    "Geef de gemiddelde kostprijs van de verkochte producten waarop korting (unit_sale_price < unit_price) is verleend (1 waarde) "
   ]
  },
  {
   "cell_type": "code",
   "execution_count": null,
   "metadata": {},
   "outputs": [],
   "source": []
  },
  {
   "cell_type": "markdown",
   "metadata": {},
   "source": [
    "Geef een overzicht met daarin het aantal medewerkers per medewerkersfunctie (2 kolommen, 7 rijen) "
   ]
  },
  {
   "cell_type": "code",
   "execution_count": null,
   "metadata": {},
   "outputs": [],
   "source": []
  },
  {
   "cell_type": "markdown",
   "metadata": {},
   "source": [
    "Geef een overzicht met daarin per telefoonnummer het aantal medewerkers dat op dat telefoonnummer bereikbaar is. Toon alleen de telefoonnummer waarop meer dan 4 medewerkers bereikbaar zijn. (2 kolommen, 10 rijen) "
   ]
  },
  {
   "cell_type": "code",
   "execution_count": null,
   "metadata": {},
   "outputs": [],
   "source": []
  },
  {
   "cell_type": "markdown",
   "metadata": {},
   "source": [
    "## Selecties op meerdere tabellen zonder functies"
   ]
  },
  {
   "cell_type": "markdown",
   "metadata": {},
   "source": [
    "Geef een overzicht met daarin het eerste adres en de stad van vestigingen van klanten uit ‘Netherlands’ (2 kolommen, 20 rijen) "
   ]
  },
  {
   "cell_type": "code",
   "execution_count": null,
   "metadata": {},
   "outputs": [],
   "source": []
  },
  {
   "cell_type": "markdown",
   "metadata": {},
   "source": [
    "Geef een overzicht met daarin de productnamen die tot het producttype ‘Eyewear’ behoren. (1 kolom, 5 rijen) "
   ]
  },
  {
   "cell_type": "code",
   "execution_count": null,
   "metadata": {},
   "outputs": [],
   "source": []
  },
  {
   "cell_type": "markdown",
   "metadata": {},
   "source": [
    "Geef een overzicht met daarin alle unieke eerste adressen van klantvestigingen en de voornaam en achternaam van de verkopers die ‘Branch Manager’ zijn en aan deze vestigingen hebben verkocht (3 kolommen, 1 rij) "
   ]
  },
  {
   "cell_type": "code",
   "execution_count": null,
   "metadata": {},
   "outputs": [],
   "source": []
  },
  {
   "cell_type": "markdown",
   "metadata": {},
   "source": [
    "Geef een overzicht met daarin van de verkopers hun functie en indien zij iets hebben verkocht de datum waarop de verkoop heeft plaatsgevonden. Laat alleen de verschillende namen van de posities zien van de verkopers die het woord ‘Manager’ in hun positienaam hebben staan. (2 kolommen, 7 rijen) "
   ]
  },
  {
   "cell_type": "code",
   "execution_count": null,
   "metadata": {},
   "outputs": [],
   "source": []
  },
  {
   "cell_type": "markdown",
   "metadata": {},
   "source": [
    "Geef een overzicht met daarin de verschillende namen van producten en bijbehorende namen van producttypen van de producten waarvoor ooit meer dan 750 stuks tegelijk verkocht zijn. (2 kolommen, 9 rijen) "
   ]
  },
  {
   "cell_type": "code",
   "execution_count": null,
   "metadata": {},
   "outputs": [],
   "source": []
  },
  {
   "cell_type": "markdown",
   "metadata": {},
   "source": [
    "Geef een overzicht met daarin de productnamen waarvan ooit meer dan 40% korting is verleend. De formule voor korting is: (unit_price - unit_sale_price) / unit_price (1 kolom, 8 rijen) "
   ]
  },
  {
   "cell_type": "code",
   "execution_count": null,
   "metadata": {},
   "outputs": [],
   "source": []
  },
  {
   "cell_type": "markdown",
   "metadata": {},
   "source": [
    "Geef een overzicht met daarin de retourreden van producten waarvan ooit meer dan 90% van de aangeschafte hoeveelheid is teruggebracht (return_quantity/quantity). (1 kolom, 3 rijen) "
   ]
  },
  {
   "cell_type": "code",
   "execution_count": null,
   "metadata": {},
   "outputs": [],
   "source": []
  },
  {
   "cell_type": "markdown",
   "metadata": {},
   "source": [
    "## Selecties op meerdere tabellen met functies"
   ]
  },
  {
   "cell_type": "markdown",
   "metadata": {},
   "source": [
    "Geef een overzicht met daarin per producttype het aantal producten die tot dat producttype behoren. (2 kolommen, 21 rijen) "
   ]
  },
  {
   "cell_type": "code",
   "execution_count": null,
   "metadata": {},
   "outputs": [],
   "source": []
  },
  {
   "cell_type": "markdown",
   "metadata": {},
   "source": [
    "Geef een overzicht met daarin per land het aantal vestigingen van klanten die zich in dat land bevinden. (2 kolommen, 21 rijen) "
   ]
  },
  {
   "cell_type": "code",
   "execution_count": null,
   "metadata": {},
   "outputs": [],
   "source": []
  },
  {
   "cell_type": "markdown",
   "metadata": {},
   "source": [
    "Geef een overzicht met daarin van de producten behorend tot het producttype ‘Cooking Gear’ per productnaam de totaal verkochte hoeveelheid en de gemiddelde verkoopprijs. Sorteer de uitkomst op totaal verkochte hoeveelheid. (4 kolommen, 10 rijen) "
   ]
  },
  {
   "cell_type": "code",
   "execution_count": null,
   "metadata": {},
   "outputs": [],
   "source": []
  },
  {
   "cell_type": "markdown",
   "metadata": {},
   "source": [
    "Geef een overzicht met daarin per land de naam van het land, de naam van de stad waar de verkoopafdeling is gevestigd (noem de kolomnaam in het overzicht ‘verkoper’) en het aantal steden waar zich klanten bevinden in dat land (noem de kolomnaam in het overzicht ‘klanten’) (3 kolommen, 29 rijen) "
   ]
  },
  {
   "cell_type": "code",
   "execution_count": null,
   "metadata": {},
   "outputs": [],
   "source": []
  },
  {
   "cell_type": "markdown",
   "metadata": {},
   "source": [
    "## Pythonvertalingen van SUBSELECT en UNION met o.a. for-loops"
   ]
  },
  {
   "cell_type": "markdown",
   "metadata": {},
   "source": [
    "Geef een overzicht met daarin de voornaam en de achternaam van de medewerkers die nog nooit wat hebben verkocht (2 kolommen, 25 rijen) "
   ]
  },
  {
   "cell_type": "code",
   "execution_count": null,
   "metadata": {},
   "outputs": [],
   "source": []
  },
  {
   "cell_type": "markdown",
   "metadata": {},
   "source": [
    "Geef een overzicht met daarin het aantal producten waarvan de marge lager is dan de gemiddelde marge van alle producten samen. Geef in het overzicht tevens aan wat de gemiddelde marge is van dit aantal producten waarvan de marge lager dan de gemiddelde marge van alle producten samen is. (1 kolom, 2 rijen) "
   ]
  },
  {
   "cell_type": "code",
   "execution_count": null,
   "metadata": {},
   "outputs": [],
   "source": []
  },
  {
   "cell_type": "markdown",
   "metadata": {},
   "source": [
    "Geef een overzicht met daarin de namen van de producten die voor meer dan 500 (verkoopprijs) zijn verkocht maar nooit zijn teruggebracht. (1 kolom, 13 rijen) "
   ]
  },
  {
   "cell_type": "code",
   "execution_count": null,
   "metadata": {},
   "outputs": [],
   "source": []
  },
  {
   "cell_type": "markdown",
   "metadata": {},
   "source": [
    "Geef een overzicht met daarin per (achternaam van) medewerker of hij/zij manager is of niet, door deze informatie toe te voegen als extra 'Ja/Nee'-kolom.<br>\n",
    "Hint: gebruik een for-loop waarin je o.a. bepaalt of het woord 'Manager' in de functie (position_en) staat. (2 kolommen, 102 rijen)."
   ]
  },
  {
   "cell_type": "code",
   "execution_count": null,
   "metadata": {},
   "outputs": [],
   "source": []
  },
  {
   "cell_type": "markdown",
   "metadata": {},
   "source": [
    "Met de onderstaande code laat je Python het huidige jaar uitrekenen."
   ]
  },
  {
   "cell_type": "code",
   "execution_count": 111,
   "metadata": {},
   "outputs": [
    {
     "data": {
      "text/plain": [
       "2025"
      ]
     },
     "execution_count": 111,
     "metadata": {},
     "output_type": "execute_result"
    }
   ],
   "source": [
    "from datetime import date\n",
    "date.today().year"
   ]
  },
  {
   "cell_type": "markdown",
   "metadata": {},
   "source": [
    "Met de onderstaande code selecteer je op een bepaald jaartal uit een datum."
   ]
  },
  {
   "cell_type": "code",
   "execution_count": 112,
   "metadata": {},
   "outputs": [
    {
     "data": {
      "text/plain": [
       "2013"
      ]
     },
     "execution_count": 112,
     "metadata": {},
     "output_type": "execute_result"
    }
   ],
   "source": [
    "from datetime import datetime\n",
    "\n",
    "date_str = '16-8-2013'\n",
    "date_format = '%d-%m-%Y'\n",
    "date_obj = datetime.strptime(date_str, date_format)\n",
    "\n",
    "date_obj.year"
   ]
  },
  {
   "cell_type": "markdown",
   "metadata": {},
   "source": [
    "Geef met behulp van bovenstaande hulpcode een overzicht met daarin op basis van het aantal jaar dat iemand in dienst is of een medewerker ‘kort in dienst’ (minder dan 25 jaar in dienst) of een ‘lang in dienst’ (groter gelijk dan 12 jaar in dienst) is. Geef daarbij per medewerker in een aparte kolom zowel ‘kort in dienst’ als ‘lang in dienst’ aan. Gebruik (wederom) een for-loop.<br>\n",
    "(2 kolommen, 102 rijen) "
   ]
  },
  {
   "cell_type": "code",
   "execution_count": null,
   "metadata": {},
   "outputs": [],
   "source": []
  },
  {
   "cell_type": "markdown",
   "metadata": {},
   "source": [
    "## Van Jupyter Notebook naar Pythonproject"
   ]
  },
  {
   "cell_type": "markdown",
   "metadata": {},
   "source": [
    "1. Richt de map waarin jullie tot nu toe hebben gewerkt in volgens de mappenstructuur uit de slides.\n",
    "2. Maak van de ontstane mappenstructuur een Pythonproject dat uitvoerbaar is vanuit de terminal. Maak daarin een .py-bestand dat minstens 5 antwoorden uit dit notebook (in de vorm van een DataFrame) exporteert naar Excelbestanden. Alle notebooks mogen als notebook blijven bestaan.\n",
    "3. Zorg ervoor dat dit Pythonproject zijn eigen repo heeft op Github. Let op: je virtual environment moet <b><u>niet</u></b> meegaan naar Github.\n",
    "\n",
    "Je mag tijdens dit proces je uit stap 1 ontstane mappenstructuur aanpassen, zolang je bij het beoordelingsmoment kan verantwoorden wat de motivatie hierachter is. De slides verplichten je dus nergens toe."
   ]
  }
 ],
 "metadata": {
  "kernelspec": {
   "display_name": ".venv",
   "language": "python",
   "name": "python3"
  },
  "language_info": {
   "codemirror_mode": {
    "name": "ipython",
    "version": 3
   },
   "file_extension": ".py",
   "mimetype": "text/x-python",
   "name": "python",
   "nbconvert_exporter": "python",
   "pygments_lexer": "ipython3",
   "version": "3.12.5"
  }
 },
 "nbformat": 4,
 "nbformat_minor": 2
}
