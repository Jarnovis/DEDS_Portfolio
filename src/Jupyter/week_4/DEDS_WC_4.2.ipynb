{
 "cells": [
  {
   "cell_type": "markdown",
   "metadata": {},
   "source": [
    "# DEDS WC 4.2"
   ]
  },
  {
   "cell_type": "markdown",
   "metadata": {},
   "source": [
    "## Imports"
   ]
  },
  {
   "cell_type": "code",
   "execution_count": 5,
   "metadata": {},
   "outputs": [],
   "source": [
    "import pandas as pd\n",
    "import sqlite3 as sql3\n",
    "import pyodbc"
   ]
  },
  {
   "cell_type": "markdown",
   "metadata": {},
   "source": [
    "## Connecties sqlite databases"
   ]
  },
  {
   "cell_type": "code",
   "execution_count": 9,
   "metadata": {},
   "outputs": [],
   "source": [
    "crm_conn = sql3.connect(r\"../../../data/raw/go_crm_train.sqlite\")\n",
    "sales_conn = sql3.connect(r\"../../../go_sales_volledig.sqlite\")\n",
    "staff_conn = sql3.connect(r\"../../../data/raw/go_staff_volledig.sqlite\")"
   ]
  },
  {
   "cell_type": "markdown",
   "metadata": {},
   "source": [
    "## Connectie SDM"
   ]
  },
  {
   "cell_type": "code",
   "execution_count": 6,
   "metadata": {},
   "outputs": [],
   "source": [
    "DB = {\n",
    "    \"servername\" : r\"VISSIE\\SQLEXPRESS\",\n",
    "    \"database\" : \"SDM\"}\n",
    "\n",
    "export_conn = pyodbc.connect(f\"\"\"DRIVER={'SQL SERVER'};\n",
    "                             SERVER={DB['servername']};\n",
    "                             DATABASE={DB['database']};\n",
    "                             Trusted_Connection=yes\n",
    "                             \"\"\")\n",
    "\n",
    "export_conn.setencoding('utf-8')\n",
    "export_conn.setdecoding(pyodbc.SQL_CHAR, encoding='utf-8')\n",
    "export_conn.setdecoding(pyodbc.SQL_WCHAR, encoding='utf-8')\n",
    "\n",
    "export_cursor = export_conn.cursor()"
   ]
  },
  {
   "cell_type": "markdown",
   "metadata": {},
   "source": [
    "## Automatische dataframes"
   ]
  },
  {
   "cell_type": "code",
   "execution_count": 10,
   "metadata": {},
   "outputs": [],
   "source": [
    "def create_dataframes_sql(connection, db_type : str):\n",
    "    dictionary : dict = {}\n",
    "    query : str = \"\"\n",
    "    key : str = \"\"\n",
    "    \n",
    "    if (db_type == \"sqlite\"):\n",
    "        query = \"SELECT name FROM sqlite_master WHERE type='table';\"\n",
    "        key = \"name\"\n",
    "    elif (db_type == \"ssms\"):\n",
    "        query = \"SELECT TABLE_NAME FROM INFORMATION_SCHEMA.TABLES WHERE TABLE_TYPE = 'BASE TABLE';\"\n",
    "        key = \"TABLE_NAME\"\n",
    "    else:\n",
    "        return {}\n",
    "    table_names = pd.read_sql(query, connection)\n",
    "    \n",
    "    for table in table_names[key].tolist():\n",
    "        dictionary[table] = pd.read_sql(f\"SELECT * FROM {table}\", connection)\n",
    "    \n",
    "    return dictionary\n",
    "\n",
    "def create_dataframes_csv(path, name):\n",
    "    frame = pd.read_csv(path)\n",
    "    \n",
    "    return {name : frame}"
   ]
  },
  {
   "cell_type": "markdown",
   "metadata": {},
   "source": [
    "## Uitlezen connecties pandas"
   ]
  },
  {
   "cell_type": "code",
   "execution_count": 16,
   "metadata": {},
   "outputs": [
    {
     "data": {
      "text/html": [
       "<div>\n",
       "<style scoped>\n",
       "    .dataframe tbody tr th:only-of-type {\n",
       "        vertical-align: middle;\n",
       "    }\n",
       "\n",
       "    .dataframe tbody tr th {\n",
       "        vertical-align: top;\n",
       "    }\n",
       "\n",
       "    .dataframe thead th {\n",
       "        text-align: right;\n",
       "    }\n",
       "</style>\n",
       "<table border=\"1\" class=\"dataframe\">\n",
       "  <thead>\n",
       "    <tr style=\"text-align: right;\">\n",
       "      <th></th>\n",
       "      <th>FORECAST_ID</th>\n",
       "      <th>PRODUCT_NUMBER</th>\n",
       "      <th>YEAR</th>\n",
       "      <th>MONTH</th>\n",
       "      <th>EXPECTED_VOLUME</th>\n",
       "    </tr>\n",
       "  </thead>\n",
       "  <tbody>\n",
       "    <tr>\n",
       "      <th>0</th>\n",
       "      <td>1</td>\n",
       "      <td>44</td>\n",
       "      <td>2024</td>\n",
       "      <td>12</td>\n",
       "      <td>383</td>\n",
       "    </tr>\n",
       "    <tr>\n",
       "      <th>1</th>\n",
       "      <td>2</td>\n",
       "      <td>45</td>\n",
       "      <td>2023</td>\n",
       "      <td>1</td>\n",
       "      <td>80</td>\n",
       "    </tr>\n",
       "    <tr>\n",
       "      <th>2</th>\n",
       "      <td>3</td>\n",
       "      <td>45</td>\n",
       "      <td>2023</td>\n",
       "      <td>2</td>\n",
       "      <td>51</td>\n",
       "    </tr>\n",
       "    <tr>\n",
       "      <th>3</th>\n",
       "      <td>4</td>\n",
       "      <td>45</td>\n",
       "      <td>2023</td>\n",
       "      <td>3</td>\n",
       "      <td>214</td>\n",
       "    </tr>\n",
       "    <tr>\n",
       "      <th>4</th>\n",
       "      <td>5</td>\n",
       "      <td>45</td>\n",
       "      <td>2023</td>\n",
       "      <td>4</td>\n",
       "      <td>300</td>\n",
       "    </tr>\n",
       "    <tr>\n",
       "      <th>...</th>\n",
       "      <td>...</td>\n",
       "      <td>...</td>\n",
       "      <td>...</td>\n",
       "      <td>...</td>\n",
       "      <td>...</td>\n",
       "    </tr>\n",
       "    <tr>\n",
       "      <th>3867</th>\n",
       "      <td>3868</td>\n",
       "      <td>115</td>\n",
       "      <td>2024</td>\n",
       "      <td>8</td>\n",
       "      <td>282</td>\n",
       "    </tr>\n",
       "    <tr>\n",
       "      <th>3868</th>\n",
       "      <td>3869</td>\n",
       "      <td>115</td>\n",
       "      <td>2024</td>\n",
       "      <td>9</td>\n",
       "      <td>920</td>\n",
       "    </tr>\n",
       "    <tr>\n",
       "      <th>3869</th>\n",
       "      <td>3870</td>\n",
       "      <td>115</td>\n",
       "      <td>2024</td>\n",
       "      <td>10</td>\n",
       "      <td>1081</td>\n",
       "    </tr>\n",
       "    <tr>\n",
       "      <th>3870</th>\n",
       "      <td>3871</td>\n",
       "      <td>115</td>\n",
       "      <td>2024</td>\n",
       "      <td>11</td>\n",
       "      <td>398</td>\n",
       "    </tr>\n",
       "    <tr>\n",
       "      <th>3871</th>\n",
       "      <td>3872</td>\n",
       "      <td>115</td>\n",
       "      <td>2024</td>\n",
       "      <td>12</td>\n",
       "      <td>759</td>\n",
       "    </tr>\n",
       "  </tbody>\n",
       "</table>\n",
       "<p>3872 rows × 5 columns</p>\n",
       "</div>"
      ],
      "text/plain": [
       "      FORECAST_ID  PRODUCT_NUMBER  YEAR  MONTH  EXPECTED_VOLUME\n",
       "0               1              44  2024     12              383\n",
       "1               2              45  2023      1               80\n",
       "2               3              45  2023      2               51\n",
       "3               4              45  2023      3              214\n",
       "4               5              45  2023      4              300\n",
       "...           ...             ...   ...    ...              ...\n",
       "3867         3868             115  2024      8              282\n",
       "3868         3869             115  2024      9              920\n",
       "3869         3870             115  2024     10             1081\n",
       "3870         3871             115  2024     11              398\n",
       "3871         3872             115  2024     12              759\n",
       "\n",
       "[3872 rows x 5 columns]"
      ]
     },
     "execution_count": 16,
     "metadata": {},
     "output_type": "execute_result"
    }
   ],
   "source": [
    "forecast = create_dataframes_csv(r\"../../../data/raw/updated_product_forecast_volledig.csv\", \"forecast\")\n",
    "inventory = create_dataframes_csv(r\"../../../data/raw/inventory_levels_volledig.csv\", \"inventory\")\n",
    "crm = create_dataframes_sql(crm_conn, \"sqlite\")\n",
    "sales = create_dataframes_sql(sales_conn, \"sqlite\")\n",
    "staff = create_dataframes_sql(staff_conn, \"sqlite\")\n",
    "\n",
    "forecast[\"forecast\"]\n",
    "\n"
   ]
  },
  {
   "cell_type": "markdown",
   "metadata": {},
   "source": [
    "## "
   ]
  },
  {
   "cell_type": "markdown",
   "metadata": {},
   "source": [
    "## Forecast ids toevoegen"
   ]
  },
  {
   "cell_type": "code",
   "execution_count": 12,
   "metadata": {},
   "outputs": [
    {
     "name": "stdout",
     "output_type": "stream",
     "text": [
      "DONE: FORECAST_ID added at the beginning.\n"
     ]
    }
   ],
   "source": [
    "# file_path = r\"..\\..\\..\\data\\raw\\product_forecast_train.csv\" \n",
    "# df = pd.read_csv(file_path)\n",
    "\n",
    "# df.insert(0, 'FORECAST_ID', range(1, len(df) + 1))\n",
    "\n",
    "# df.to_csv(r\"..\\..\\..\\data\\raw\\updated_product_forecast_train.csv\", index=False)\n",
    "\n",
    "# print(\"DONE: FORECAST_ID added at the beginning.\")\n"
   ]
  }
 ],
 "metadata": {
  "kernelspec": {
   "display_name": ".venv",
   "language": "python",
   "name": "python3"
  },
  "language_info": {
   "codemirror_mode": {
    "name": "ipython",
    "version": 3
   },
   "file_extension": ".py",
   "mimetype": "text/x-python",
   "name": "python",
   "nbconvert_exporter": "python",
   "pygments_lexer": "ipython3",
   "version": "3.12.5"
  }
 },
 "nbformat": 4,
 "nbformat_minor": 2
}
