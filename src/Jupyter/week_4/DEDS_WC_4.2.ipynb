{
 "cells": [
  {
   "cell_type": "markdown",
   "metadata": {},
   "source": [
    "# DEDS WC 4.2"
   ]
  },
  {
   "cell_type": "markdown",
   "metadata": {},
   "source": [
    "## Imports"
   ]
  },
  {
   "cell_type": "code",
   "execution_count": null,
   "metadata": {},
   "outputs": [],
   "source": [
    "import pandas as pd\n",
    "import sqlite3 as sql3\n",
    "import pyodbc"
   ]
  },
  {
   "cell_type": "markdown",
   "metadata": {},
   "source": [
    "## Connecties sqlite databases"
   ]
  },
  {
   "cell_type": "code",
   "execution_count": null,
   "metadata": {},
   "outputs": [],
   "source": [
    "crm_conn = sql3.connect(r\"../../../data/raw/go_crm_train.sqlite\")\n",
    "sales_conn = sql3.connect(r\"../../../go_sales_volledig.sqlite\")\n",
    "staff_conn = sql3.connect(r\"../../../data/raw/go_staff_volledig.sqlite\")"
   ]
  },
  {
   "cell_type": "markdown",
   "metadata": {},
   "source": [
    "## Connectie SDM"
   ]
  },
  {
   "cell_type": "code",
   "execution_count": null,
   "metadata": {},
   "outputs": [],
   "source": [
    "DB = {\n",
    "    \"servername\" : r\"VISSIE\\SQLEXPRESS\",\n",
    "    \"database\" : \"SDM\"}\n",
    "\n",
    "export_conn = pyodbc.connect(f\"\"\"DRIVER={'SQL SERVER'};\n",
    "                             SERVER={DB['servername']};\n",
    "                             DATABASE={DB['database']};\n",
    "                             Trusted_Connection=yes\n",
    "                             \"\"\")\n",
    "\n",
    "export_conn.setencoding('utf-8')\n",
    "export_conn.setdecoding(pyodbc.SQL_CHAR, encoding='utf-8')\n",
    "export_conn.setdecoding(pyodbc.SQL_WCHAR, encoding='utf-8')\n",
    "\n",
    "export_cursor = export_conn.cursor()"
   ]
  },
  {
   "cell_type": "markdown",
   "metadata": {},
   "source": [
    "## Automatische dataframes"
   ]
  },
  {
   "cell_type": "code",
   "execution_count": null,
   "metadata": {},
   "outputs": [],
   "source": [
    "def create_dataframes_sql(connection, db_type : str):\n",
    "    dictionary : dict = {}\n",
    "    query : str = \"\"\n",
    "    key : str = \"\"\n",
    "    \n",
    "    if (db_type == \"sqlite\"):\n",
    "        query = \"SELECT name FROM sqlite_master WHERE type='table';\"\n",
    "        key = \"name\"\n",
    "    elif (db_type == \"ssms\"):\n",
    "        query = \"SELECT TABLE_NAME FROM INFORMATION_SCHEMA.TABLES WHERE TABLE_TYPE = 'BASE TABLE';\"\n",
    "        key = \"TABLE_NAME\"\n",
    "    else:\n",
    "        return {}\n",
    "    table_names = pd.read_sql(query, connection)\n",
    "    \n",
    "    for table in table_names[key].tolist():\n",
    "        dictionary[table] = pd.read_sql(f\"SELECT * FROM {table}\", connection)\n",
    "    \n",
    "    return dictionary\n",
    "\n",
    "def create_dataframes_csv(path, name, seperator):\n",
    "    frame = pd.read_csv(path, sep=seperator)\n",
    "    \n",
    "    return {name : frame}"
   ]
  },
  {
   "cell_type": "markdown",
   "metadata": {},
   "source": [
    "## Uitlezen connecties pandas"
   ]
  },
  {
   "cell_type": "code",
   "execution_count": null,
   "metadata": {},
   "outputs": [],
   "source": [
    "forecast_updated = create_dataframes_csv(r\"../../../data/raw/updated_product_forecast_volledig.csv\", \"forecast\", \",\")\n",
    "inventory_updated = create_dataframes_csv(r\"../../../data/raw/updated_inventory_levels_volledig.csv\", \"inventory\", \";\")\n",
    "database = create_dataframes_sql(export_conn, \"ssms\")\n",
    "crm = create_dataframes_sql(crm_conn, \"sqlite\")\n",
    "sales = create_dataframes_sql(sales_conn, \"sqlite\")\n",
    "staff = create_dataframes_sql(staff_conn, \"sqlite\")"
   ]
  },
  {
   "cell_type": "markdown",
   "metadata": {},
   "source": [
    "Alleen de unique lines blijven over"
   ]
  },
  {
   "cell_type": "code",
   "execution_count": null,
   "metadata": {},
   "outputs": [],
   "source": [
    "new_rows : dict = {}\n",
    "\n",
    "database[\"forecast\"] = pd.concat([database[\"forecast\"], forecast_updated[\"forecast\"]], ignore_index=True)\n",
    "\n",
    "new_rows[\"forecast\"] = database[\"forecast\"][~database[\"forecast\"].duplicated(keep=False)]"
   ]
  },
  {
   "cell_type": "markdown",
   "metadata": {},
   "source": [
    "Alleen de unique linens blijven over"
   ]
  },
  {
   "cell_type": "markdown",
   "metadata": {},
   "source": [
    "## "
   ]
  },
  {
   "cell_type": "code",
   "execution_count": null,
   "metadata": {},
   "outputs": [],
   "source": [
    "database[\"inventory_levels\"] = pd.concat([database[\"inventory_levels\"], inventory_updated[\"inventory\"]], ignore_index=True)\n",
    "database[\"inventory_levels\"]\n",
    "\n",
    "new_inventories = database[\"inventory_levels\"][~database[\"inventory_levels\"].duplicated(keep=False)]\n",
    "\n",
    "new_rows[\"inventory_levels\"] = new_inventories"
   ]
  },
  {
   "cell_type": "code",
   "execution_count": null,
   "metadata": {},
   "outputs": [],
   "source": [
    "for name, frame in crm.items():\n",
    "    database[name] = pd.concat([database[name], frame], ignore_index=True)\n",
    "    new_rows[name] = database[name][~database[name].duplicated(keep=False)]\n",
    "\n",
    "for name, frame in sales.items():\n",
    "    database[name] = pd.concat([database[name], frame], ignore_index=True)\n",
    "    new_rows[name] = database[name][~database[name].duplicated(keep=False)]\n",
    "\n",
    "for name, frame in staff.items():\n",
    "    database[name] = pd.concat([database[name], frame], ignore_index=True)\n",
    "    new_rows[name] = database[name][~database[name].duplicated(keep=False)]"
   ]
  },
  {
   "cell_type": "markdown",
   "metadata": {},
   "source": [
    "## Insert code"
   ]
  },
  {
   "cell_type": "code",
   "execution_count": null,
   "metadata": {},
   "outputs": [],
   "source": [
    "print(new_rows.keys())"
   ]
  },
  {
   "cell_type": "code",
   "execution_count": null,
   "metadata": {},
   "outputs": [],
   "source": [
    "def sql_convertes(table: str, frame: pd.DataFrame):\n",
    "    insert_statements = []\n",
    "\n",
    "    for _, row in frame.iterrows():\n",
    "        columns = ', '.join(row.index)\n",
    "        values = ', '.join([\n",
    "            f\"'{value.replace(\"'\", \"''\")}'\" if isinstance(value, str) else \"NULL\" if pd.isna(value) else str(value)\n",
    "            for value in row\n",
    "        ])\n",
    "        insert_statement = f\"INSERT INTO {table} ({columns}) VALUES ({values});\"\n",
    "        insert_statements.append(insert_statement)\n",
    "\n",
    "    return insert_statements\n",
    "\n",
    "for name, frame in new_rows.items():\n",
    "    insert_statement += sql_convertes(name, frame)\n",
    "\n",
    "\n",
    "duplicated_keys = 0\n",
    "\n",
    "for statement in insert_statement:\n",
    "    try:\n",
    "        export_cursor.execute(statement)\n",
    "    except pyodbc.Error as e:\n",
    "        duplicated_keys += 1\n",
    "        print(e)\n",
    "    \n",
    "\n",
    "print(len(insert_statement))\n",
    "print(f\"{duplicated_keys} rows not comitted\")"
   ]
  },
  {
   "cell_type": "markdown",
   "metadata": {},
   "source": [
    "## Forecast ids toevoegen"
   ]
  },
  {
   "cell_type": "code",
   "execution_count": null,
   "metadata": {},
   "outputs": [],
   "source": [
    "def ids():\n",
    "    file_path = r\"..\\..\\..\\data\\raw\\inventory_levels_volledig.csv\" \n",
    "    df = pd.read_csv(file_path, sep=';')  \n",
    "\n",
    "    df.insert(1, 'INVENTORY_ID', range(len(df)))\n",
    "\n",
    "    df.to_csv(r\"..\\..\\..\\data\\raw\\updated_inventory_levels_volledig.csv\", index=False, sep=';') \n",
    "\n",
    "    print(\"DONE: INVENTORY_ID added with semicolon format.\")\n"
   ]
  }
 ],
 "metadata": {
  "kernelspec": {
   "display_name": ".venv",
   "language": "python",
   "name": "python3"
  },
  "language_info": {
   "codemirror_mode": {
    "name": "ipython",
    "version": 3
   },
   "file_extension": ".py",
   "mimetype": "text/x-python",
   "name": "python",
   "nbconvert_exporter": "python",
   "pygments_lexer": "ipython3",
   "version": "3.12.5"
  }
 },
 "nbformat": 4,
 "nbformat_minor": 2
}
