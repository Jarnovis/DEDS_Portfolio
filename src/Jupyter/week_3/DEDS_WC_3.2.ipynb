{
 "cells": [
  {
   "cell_type": "markdown",
   "metadata": {},
   "source": [
    "# DEDS WC 3.2"
   ]
  },
  {
   "cell_type": "markdown",
   "metadata": {},
   "source": [
    "## Imports"
   ]
  },
  {
   "cell_type": "code",
   "execution_count": 46,
   "metadata": {},
   "outputs": [],
   "source": [
    "import pyodbc\n",
    "import sqlite3 as sql\n",
    "import pandas as pd"
   ]
  },
  {
   "cell_type": "markdown",
   "metadata": {},
   "source": [
    "## Connectie SSMS"
   ]
  },
  {
   "cell_type": "code",
   "execution_count": 47,
   "metadata": {},
   "outputs": [],
   "source": [
    "DB_TOTAL = {\n",
    "    \"servername\" : r\"VISSIE\\SQLEXPRESS\",\n",
    "    \"database\" : \"SDM\"}\n",
    "\n",
    "export_conn_sdm = pyodbc.connect(f\"\"\"DRIVER={'SQL SERVER'};\n",
    "                             SERVER={DB_TOTAL['servername']};\n",
    "                             DATABASE={DB_TOTAL['database']};\n",
    "                             Trusted_Connection=yes\n",
    "                             \"\"\")\n",
    "\n",
    "export_conn_sdm.setencoding('utf-8')\n",
    "export_conn_sdm.setdecoding(pyodbc.SQL_CHAR, encoding='utf-8')\n",
    "export_conn_sdm.setdecoding(pyodbc.SQL_WCHAR, encoding='utf-8')\n",
    "\n",
    "export_cursor_sdm = export_conn_sdm.cursor()\n",
    "\n",
    "DB_GO = {\n",
    "    \"servername\" : r\"VISSIE\\SQLEXPRESS\",\n",
    "    \"database\" : \"GREAT_OUTDOORS\"}\n",
    "\n",
    "export_conn_go = pyodbc.connect(f\"\"\"DRIVER={'SQL SERVER'};\n",
    "                             SERVER={DB_GO['servername']};\n",
    "                             DATABASE={DB_GO['database']};\n",
    "                             Trusted_Connection=yes\n",
    "                             \"\"\")\n",
    "\n",
    "export_conn_go.setencoding('utf-8')\n",
    "export_conn_go.setdecoding(pyodbc.SQL_CHAR, encoding='utf-8')\n",
    "export_conn_go.setdecoding(pyodbc.SQL_WCHAR, encoding='utf-8')\n",
    "\n",
    "export_cursor_go = export_conn_go.cursor()\n"
   ]
  },
  {
   "cell_type": "markdown",
   "metadata": {},
   "source": [
    "## Dataframes"
   ]
  },
  {
   "cell_type": "code",
   "execution_count": 48,
   "metadata": {},
   "outputs": [
    {
     "name": "stderr",
     "output_type": "stream",
     "text": [
      "C:\\Users\\jdvis_x5odeao\\AppData\\Local\\Temp\\ipykernel_1476\\973834393.py:6: UserWarning: pandas only supports SQLAlchemy connectable (engine/connection) or database string URI or sqlite3 DBAPI2 connection. Other DBAPI2 objects are not tested. Please consider using SQLAlchemy.\n",
      "  tables = pd.read_sql(query, connection)\n",
      "C:\\Users\\jdvis_x5odeao\\AppData\\Local\\Temp\\ipykernel_1476\\973834393.py:9: UserWarning: pandas only supports SQLAlchemy connectable (engine/connection) or database string URI or sqlite3 DBAPI2 connection. Other DBAPI2 objects are not tested. Please consider using SQLAlchemy.\n",
      "  dictionary[table] = pd.read_sql(f\"SELECT * FROM {table}\", connection)\n"
     ]
    }
   ],
   "source": [
    "def create_dataframes_sql(connection):\n",
    "    dictionary : dict = {}\n",
    "    query = \"SELECT TABLE_NAME FROM INFORMATION_SCHEMA.TABLES WHERE TABLE_TYPE = 'BASE TABLE';\"\n",
    "    key = \"TABLE_NAME\"\n",
    "    \n",
    "    tables = pd.read_sql(query, connection)\n",
    "    \n",
    "    for table in tables[key].tolist():\n",
    "        dictionary[table] = pd.read_sql(f\"SELECT * FROM {table}\", connection)\n",
    "    \n",
    "    return dictionary\n",
    "\n",
    "sdm_frames = create_dataframes_sql(export_conn_sdm)"
   ]
  },
  {
   "cell_type": "markdown",
   "metadata": {},
   "source": [
    "## Querie makers"
   ]
  },
  {
   "cell_type": "code",
   "execution_count": 49,
   "metadata": {},
   "outputs": [],
   "source": [
    "from typing import Iterable\n",
    "\n",
    "def query_remove(table_name : str):\n",
    "    try:\n",
    "        query = f\"DELETE FROM {table_name}\"\n",
    "        export_cursor_go.execute(query)\n",
    "        export_cursor_go.commit()\n",
    "    except pyodbc.Error as e:\n",
    "        print(f\"ERROR: {table_name}: {e}\")\n",
    "        return table_name\n",
    "    \n",
    "    return None\n",
    "\n",
    "def rigth_type(value, column_name, types):\n",
    "    dtype = types[column_name]\n",
    "    \n",
    "    if pd.isna(value):\n",
    "        return \"NULL\"\n",
    "    \n",
    "    if dtype == \"object\" or dtype == \"string\":\n",
    "        value = value.replace(\"'\", \"''\")\n",
    "        return f\"'{value}'\"\n",
    "    \n",
    "    return f\"{value}\"\n",
    "    \n",
    "\n",
    "def create_add_query(row, types):\n",
    "    query = \"\"\n",
    "    columns = list(row.keys())\n",
    "    \n",
    "    for pos in range(len(columns)):\n",
    "        column_name = columns[pos]\n",
    "        value = row[column_name]\n",
    "        \n",
    "        if (pos == len(columns) - 1):\n",
    "            query += f\"{column_name}) VALUES (\"\n",
    "        else:\n",
    "            query += f\"{column_name}, \"\n",
    "    \n",
    "    data = list(row)\n",
    "    \n",
    "    for pos in range(len(data)):\n",
    "        column_name = columns[pos]\n",
    "        value = row[column_name]\n",
    "        \n",
    "        if pos == len(columns) - 1:\n",
    "            query += f\"{rigth_type(value, column_name, types)})\"\n",
    "        else:\n",
    "            query += f\"{rigth_type(value, column_name, types)}, \"\n",
    "    \n",
    "    return query\n",
    "\n",
    "def query_add(table_name : str, table_data : pd.DataFrame):\n",
    "    queries = []\n",
    "    types = table_data.dtypes\n",
    "\n",
    "    for index, row in table_data.iterrows():\n",
    "        query : str = f\"INSERT INTO {table_name} (\"\n",
    "        query += create_add_query(row, types)\n",
    "        queries.append(query)\n",
    "    \n",
    "    return queries"
   ]
  },
  {
   "cell_type": "markdown",
   "metadata": {},
   "source": [
    "## Leegmaken Great Outdoors database"
   ]
  },
  {
   "cell_type": "code",
   "execution_count": 50,
   "metadata": {},
   "outputs": [
    {
     "name": "stdout",
     "output_type": "stream",
     "text": [
      "REMOVED returned_item\n",
      "REMOVED retailer_site\n",
      "REMOVED inventory\n",
      "REMOVED product\n",
      "REMOVED order_details\n",
      "REMOVED product\n",
      "REMOVED sales_staff\n",
      "REMOVED date\n",
      "All items are removed\n"
     ]
    }
   ],
   "source": [
    "def empty_go():\n",
    "    tables_go : list = [\n",
    "        \"returned_item\",\n",
    "        \"order_details\",\n",
    "        \"retailer_site\",\n",
    "        \"sales_staff\",\n",
    "        \"inventory\",\n",
    "        \"product\",\n",
    "        \"product\",\n",
    "        \"date\"\n",
    "    ]\n",
    "    \n",
    "    while len(tables_go) > 0:\n",
    "        for table in tables_go:\n",
    "            try:\n",
    "                temp = query_remove(table)\n",
    "                \n",
    "                if (temp == None):\n",
    "                    tables_go.remove(table)\n",
    "                    print(f\"REMOVED {table}\")\n",
    "                else:\n",
    "                    print(f\"NOT YET REMOVED: {table}\")\n",
    "            except pyodbc.Error as e:\n",
    "                print(e)\n",
    "        \n",
    "    print(\"All items are removed\")\n",
    "\n",
    "empty_go()"
   ]
  },
  {
   "cell_type": "markdown",
   "metadata": {},
   "source": [
    "## Great Outdoors vullen"
   ]
  },
  {
   "cell_type": "markdown",
   "metadata": {},
   "source": [
    "### Frames aanmaken"
   ]
  },
  {
   "cell_type": "code",
   "execution_count": 51,
   "metadata": {},
   "outputs": [
    {
     "data": {
      "text/html": [
       "<div>\n",
       "<style scoped>\n",
       "    .dataframe tbody tr th:only-of-type {\n",
       "        vertical-align: middle;\n",
       "    }\n",
       "\n",
       "    .dataframe tbody tr th {\n",
       "        vertical-align: top;\n",
       "    }\n",
       "\n",
       "    .dataframe thead th {\n",
       "        text-align: right;\n",
       "    }\n",
       "</style>\n",
       "<table border=\"1\" class=\"dataframe\">\n",
       "  <thead>\n",
       "    <tr style=\"text-align: right;\">\n",
       "      <th></th>\n",
       "      <th>PRODUCT_NUMBER</th>\n",
       "      <th>YEAR</th>\n",
       "      <th>MONTH</th>\n",
       "      <th>EXPECTED_VOLUME</th>\n",
       "      <th>FORECAST_ID</th>\n",
       "    </tr>\n",
       "  </thead>\n",
       "  <tbody>\n",
       "    <tr>\n",
       "      <th>0</th>\n",
       "      <td>45</td>\n",
       "      <td>2023</td>\n",
       "      <td>12</td>\n",
       "      <td>90</td>\n",
       "      <td>1</td>\n",
       "    </tr>\n",
       "    <tr>\n",
       "      <th>1</th>\n",
       "      <td>46</td>\n",
       "      <td>2023</td>\n",
       "      <td>12</td>\n",
       "      <td>84</td>\n",
       "      <td>2</td>\n",
       "    </tr>\n",
       "    <tr>\n",
       "      <th>2</th>\n",
       "      <td>47</td>\n",
       "      <td>2023</td>\n",
       "      <td>12</td>\n",
       "      <td>468</td>\n",
       "      <td>3</td>\n",
       "    </tr>\n",
       "    <tr>\n",
       "      <th>3</th>\n",
       "      <td>48</td>\n",
       "      <td>2023</td>\n",
       "      <td>12</td>\n",
       "      <td>91</td>\n",
       "      <td>4</td>\n",
       "    </tr>\n",
       "    <tr>\n",
       "      <th>4</th>\n",
       "      <td>49</td>\n",
       "      <td>2023</td>\n",
       "      <td>12</td>\n",
       "      <td>35</td>\n",
       "      <td>5</td>\n",
       "    </tr>\n",
       "    <tr>\n",
       "      <th>...</th>\n",
       "      <td>...</td>\n",
       "      <td>...</td>\n",
       "      <td>...</td>\n",
       "      <td>...</td>\n",
       "      <td>...</td>\n",
       "    </tr>\n",
       "    <tr>\n",
       "      <th>3524</th>\n",
       "      <td>37</td>\n",
       "      <td>2022</td>\n",
       "      <td>1</td>\n",
       "      <td>60</td>\n",
       "      <td>3525</td>\n",
       "    </tr>\n",
       "    <tr>\n",
       "      <th>3525</th>\n",
       "      <td>38</td>\n",
       "      <td>2022</td>\n",
       "      <td>1</td>\n",
       "      <td>51</td>\n",
       "      <td>3526</td>\n",
       "    </tr>\n",
       "    <tr>\n",
       "      <th>3526</th>\n",
       "      <td>39</td>\n",
       "      <td>2022</td>\n",
       "      <td>1</td>\n",
       "      <td>235</td>\n",
       "      <td>3527</td>\n",
       "    </tr>\n",
       "    <tr>\n",
       "      <th>3527</th>\n",
       "      <td>40</td>\n",
       "      <td>2022</td>\n",
       "      <td>1</td>\n",
       "      <td>568</td>\n",
       "      <td>3528</td>\n",
       "    </tr>\n",
       "    <tr>\n",
       "      <th>3528</th>\n",
       "      <td>41</td>\n",
       "      <td>2022</td>\n",
       "      <td>1</td>\n",
       "      <td>84</td>\n",
       "      <td>3529</td>\n",
       "    </tr>\n",
       "  </tbody>\n",
       "</table>\n",
       "<p>3529 rows × 5 columns</p>\n",
       "</div>"
      ],
      "text/plain": [
       "      PRODUCT_NUMBER  YEAR  MONTH  EXPECTED_VOLUME  FORECAST_ID\n",
       "0                 45  2023     12               90            1\n",
       "1                 46  2023     12               84            2\n",
       "2                 47  2023     12              468            3\n",
       "3                 48  2023     12               91            4\n",
       "4                 49  2023     12               35            5\n",
       "...              ...   ...    ...              ...          ...\n",
       "3524              37  2022      1               60         3525\n",
       "3525              38  2022      1               51         3526\n",
       "3526              39  2022      1              235         3527\n",
       "3527              40  2022      1              568         3528\n",
       "3528              41  2022      1               84         3529\n",
       "\n",
       "[3529 rows x 5 columns]"
      ]
     },
     "execution_count": 51,
     "metadata": {},
     "output_type": "execute_result"
    }
   ],
   "source": [
    "product_forecast_go = sdm_frames[\"forecast\"]\n",
    "product_forecast_go\n"
   ]
  }
 ],
 "metadata": {
  "kernelspec": {
   "display_name": ".venv",
   "language": "python",
   "name": "python3"
  },
  "language_info": {
   "codemirror_mode": {
    "name": "ipython",
    "version": 3
   },
   "file_extension": ".py",
   "mimetype": "text/x-python",
   "name": "python",
   "nbconvert_exporter": "python",
   "pygments_lexer": "ipython3",
   "version": "3.12.5"
  }
 },
 "nbformat": 4,
 "nbformat_minor": 2
}
